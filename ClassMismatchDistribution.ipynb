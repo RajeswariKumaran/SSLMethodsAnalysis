{
  "nbformat": 4,
  "nbformat_minor": 0,
  "metadata": {
    "colab": {
      "provenance": [],
      "gpuType": "T4",
      "authorship_tag": "ABX9TyNvXqT+747fJ6d2DqZMIevv",
      "include_colab_link": true
    },
    "kernelspec": {
      "name": "python3",
      "display_name": "Python 3"
    },
    "language_info": {
      "name": "python"
    },
    "accelerator": "GPU"
  },
  "cells": [
    {
      "cell_type": "markdown",
      "metadata": {
        "id": "view-in-github",
        "colab_type": "text"
      },
      "source": [
        "<a href=\"https://colab.research.google.com/github/RajeswariKumaran/SSLMethodsAnalysis/blob/main/ClassMismatchDistribution.ipynb\" target=\"_parent\"><img src=\"https://colab.research.google.com/assets/colab-badge.svg\" alt=\"Open In Colab\"/></a>"
      ]
    },
    {
      "cell_type": "code",
      "execution_count": null,
      "metadata": {
        "colab": {
          "base_uri": "https://localhost:8080/"
        },
        "id": "OjqGssgndNJY",
        "outputId": "43a759f2-2032-4a88-b078-73aa90648f0f"
      },
      "outputs": [
        {
          "output_type": "stream",
          "name": "stdout",
          "text": [
            "Collecting optuna\n",
            "  Downloading optuna-4.5.0-py3-none-any.whl.metadata (17 kB)\n",
            "Collecting alembic>=1.5.0 (from optuna)\n",
            "  Downloading alembic-1.16.5-py3-none-any.whl.metadata (7.3 kB)\n",
            "Collecting colorlog (from optuna)\n",
            "  Downloading colorlog-6.9.0-py3-none-any.whl.metadata (10 kB)\n",
            "Requirement already satisfied: numpy in /usr/local/lib/python3.12/dist-packages (from optuna) (2.0.2)\n",
            "Requirement already satisfied: packaging>=20.0 in /usr/local/lib/python3.12/dist-packages (from optuna) (25.0)\n",
            "Requirement already satisfied: sqlalchemy>=1.4.2 in /usr/local/lib/python3.12/dist-packages (from optuna) (2.0.43)\n",
            "Requirement already satisfied: tqdm in /usr/local/lib/python3.12/dist-packages (from optuna) (4.67.1)\n",
            "Requirement already satisfied: PyYAML in /usr/local/lib/python3.12/dist-packages (from optuna) (6.0.2)\n",
            "Requirement already satisfied: Mako in /usr/lib/python3/dist-packages (from alembic>=1.5.0->optuna) (1.1.3)\n",
            "Requirement already satisfied: typing-extensions>=4.12 in /usr/local/lib/python3.12/dist-packages (from alembic>=1.5.0->optuna) (4.15.0)\n",
            "Requirement already satisfied: greenlet>=1 in /usr/local/lib/python3.12/dist-packages (from sqlalchemy>=1.4.2->optuna) (3.2.4)\n",
            "Downloading optuna-4.5.0-py3-none-any.whl (400 kB)\n",
            "\u001b[2K   \u001b[90m━━━━━━━━━━━━━━━━━━━━━━━━━━━━━━━━━━━━━━━━\u001b[0m \u001b[32m400.9/400.9 kB\u001b[0m \u001b[31m26.9 MB/s\u001b[0m eta \u001b[36m0:00:00\u001b[0m\n",
            "\u001b[?25hDownloading alembic-1.16.5-py3-none-any.whl (247 kB)\n",
            "\u001b[2K   \u001b[90m━━━━━━━━━━━━━━━━━━━━━━━━━━━━━━━━━━━━━━━━\u001b[0m \u001b[32m247.4/247.4 kB\u001b[0m \u001b[31m26.8 MB/s\u001b[0m eta \u001b[36m0:00:00\u001b[0m\n",
            "\u001b[?25hDownloading colorlog-6.9.0-py3-none-any.whl (11 kB)\n",
            "Installing collected packages: colorlog, alembic, optuna\n",
            "Successfully installed alembic-1.16.5 colorlog-6.9.0 optuna-4.5.0\n"
          ]
        }
      ],
      "source": [
        "!pip install optuna"
      ]
    },
    {
      "cell_type": "code",
      "source": [
        "import torch\n",
        "import torch.nn as nn\n",
        "import torch.optim as optim\n",
        "import torchvision\n",
        "import torchvision.transforms as transforms\n",
        "from torch.utils.data import DataLoader, Subset\n",
        "import torch.nn.functional as F\n",
        "import optuna"
      ],
      "metadata": {
        "id": "e-__qImidShK"
      },
      "execution_count": null,
      "outputs": []
    },
    {
      "cell_type": "code",
      "source": [
        "import torchvision\n",
        "import torchvision.transforms as transforms\n",
        "from torch.utils.data import Subset\n",
        "import numpy as np\n",
        "\n",
        "# Basic transform\n",
        "transform = transforms.Compose([\n",
        "    transforms.ToTensor(),\n",
        "])\n",
        "\n",
        "# Load CIFAR-10\n",
        "full_trainset = torchvision.datasets.CIFAR10(root='./data', train=True, download=True, transform=transform)\n",
        "full_testset = torchvision.datasets.CIFAR10(root='./data', train=False, download=True, transform=transform)\n",
        "\n",
        "# Helper to get indices by class\n",
        "def get_class_indices(dataset, target_classes):\n",
        "    return [i for i, (_, label) in enumerate(dataset) if label in target_classes]\n"
      ],
      "metadata": {
        "colab": {
          "base_uri": "https://localhost:8080/"
        },
        "id": "RgvYjvL9djEB",
        "outputId": "b54b56ba-ce59-47da-f474-a28d8d8484d2"
      },
      "execution_count": null,
      "outputs": [
        {
          "output_type": "stream",
          "name": "stderr",
          "text": [
            "100%|██████████| 170M/170M [00:13<00:00, 12.8MB/s]\n"
          ]
        }
      ]
    },
    {
      "cell_type": "code",
      "source": [
        "# choose 5 classes for labeled set and create two different sets for unlabeled, one with matching 5 classes and another with mismatched 5 classes\n",
        "# Example class mapping\n",
        "class_names = {\n",
        "    0: \"airplane\", 1: \"automobile\", 2: \"bird\", 3: \"cat\", 4: \"deer\",\n",
        "    5: \"dog\", 6: \"frog\", 7: \"horse\", 8: \"ship\", 9: \"truck\"\n",
        "}\n",
        "\n",
        "# Use classes 0–4 for labeled data (airplane to deer)\n",
        "labeled_classes = [0, 1, 2, 3, 4]\n",
        "unlabeled_classes_matched = [0, 1, 2, 3, 4]      # matched distribution\n",
        "unlabeled_classes_mismatched = [5, 6, 7, 8, 9]   # mismatched distribution\n"
      ],
      "metadata": {
        "id": "INiI54EYdnTW"
      },
      "execution_count": null,
      "outputs": []
    },
    {
      "cell_type": "code",
      "source": [
        "# Labeled set: small subset from classes 0–4\n",
        "labeled_indices = get_class_indices(full_trainset, labeled_classes)\n",
        "np.random.shuffle(labeled_indices)\n",
        "labeled_indices = labeled_indices[:500]  # choose small labeled set\n",
        "labeled_dataset = Subset(full_trainset, labeled_indices)\n",
        "\n",
        "# Unlabeled set: two variations\n",
        "# a) Matched\n",
        "unlabeled_matched_indices = get_class_indices(full_trainset, unlabeled_classes_matched)\n",
        "unlabeled_dataset_matched = Subset(full_trainset, unlabeled_matched_indices)\n",
        "\n",
        "# b) Mismatched\n",
        "unlabeled_mismatched_indices = get_class_indices(full_trainset, unlabeled_classes_mismatched)\n",
        "unlabeled_dataset_mismatched = Subset(full_trainset, unlabeled_mismatched_indices)\n",
        "\n",
        "# Test set: use only classes 0–4 to align with labeled set evaluation\n",
        "test_indices = get_class_indices(full_testset, labeled_classes)\n",
        "test_dataset = Subset(full_testset, test_indices)\n",
        "\n"
      ],
      "metadata": {
        "id": "0GB-6g5Id8KI"
      },
      "execution_count": null,
      "outputs": []
    },
    {
      "cell_type": "code",
      "source": [
        "from collections import Counter\n",
        "import matplotlib.pyplot as plt\n",
        "def plot_class_distribution(labels, title):\n",
        "    counts = Counter(labels)\n",
        "    classes = list(range(10))  # CIFAR-10 has 10 classes (0–9)\n",
        "    values = [counts.get(i, 0) for i in classes]\n",
        "\n",
        "    plt.figure(figsize=(8, 4))\n",
        "    plt.bar(classes, values, tick_label=[\n",
        "        'airplane', 'automobile', 'bird', 'cat', 'deer',\n",
        "        'dog', 'frog', 'horse', 'ship', 'truck'\n",
        "    ])\n",
        "    plt.title(title)\n",
        "    plt.ylabel(\"Number of Samples\")\n",
        "    plt.xlabel(\"Class\")\n",
        "    plt.xticks(rotation=45)\n",
        "    plt.grid(True)\n",
        "    plt.tight_layout()\n",
        "    plt.show()"
      ],
      "metadata": {
        "id": "-v9ud_7981D8"
      },
      "execution_count": null,
      "outputs": []
    },
    {
      "cell_type": "code",
      "source": [
        "# Extract labels from Subset\n",
        "def get_labels_from_subset(subset):\n",
        "    return [subset.dataset.targets[i] for i in subset.indices]\n",
        "\n",
        "# labeled_loader, unlabeled_loader, test_loader = get_cifar10_dataloaders()\n",
        "\n",
        "# Access the underlying Subsets\n",
        "# labeled_subset = labeled_loader.dataset\n",
        "# unlabeled_subset = unlabeled_loader.dataset\n",
        "# test_subset = test_loader.dataset\n",
        "\n",
        "# Extract and plot labels\n",
        "labeled_labels = get_labels_from_subset(labeled_dataset)\n",
        "unlabeled_labels_matched = get_labels_from_subset(unlabeled_dataset_matched)\n",
        "unlabeled_labels_mismatched = get_labels_from_subset(unlabeled_dataset_mismatched)\n",
        "test_labels = get_labels_from_subset(test_dataset)\n",
        "# test_datasubset = test_dataset.dataset\n",
        "# test_labels = test_datasubset.targets  # Full test set\n",
        "\n",
        "plot_class_distribution(labeled_labels, \"Labeled Set Distribution\")\n",
        "plot_class_distribution(unlabeled_labels_matched, \"Unlabeled Matched Set Distribution\")\n",
        "plot_class_distribution(unlabeled_labels_mismatched, \"Unlabeled Mismatched Set Distribution\")\n",
        "plot_class_distribution(test_labels, \"Test Set Distribution\")"
      ],
      "metadata": {
        "colab": {
          "base_uri": "https://localhost:8080/",
          "height": 1000
        },
        "id": "JwWXs6J_82SR",
        "outputId": "dd951922-7a53-443d-c108-14647ba7941e"
      },
      "execution_count": null,
      "outputs": [
        {
          "output_type": "display_data",
          "data": {
            "text/plain": [
              "<Figure size 800x400 with 1 Axes>"
            ],
            "image/png": "[encoded data removed]"
          },
          "metadata": {}
        },
        {
          "output_type": "display_data",
          "data": {
            "text/plain": [
              "<Figure size 800x400 with 1 Axes>"
            ],
            "image/png": "[encoded data removed]"
          },
          "metadata": {}
        },
        {
          "output_type": "display_data",
          "data": {
            "text/plain": [
              "<Figure size 800x400 with 1 Axes>"
            ],
            "image/png": "[encoded data removed]"
          },
          "metadata": {}
        },
        {
          "output_type": "display_data",
          "data": {
            "text/plain": [
              "<Figure size 800x400 with 1 Axes>"
            ],
            "image/png": "[encoded data removed]"
          },
          "metadata": {}
        }
      ]
    },
    {
      "cell_type": "code",
      "source": [
        "# Get best parameters\n",
        "import optuna\n",
        "import torch\n",
        "import torch.optim as optim\n",
        "import torch.nn as nn\n",
        "from torch.utils.data import DataLoader\n",
        "import torch.nn.functional as F\n",
        "\n",
        "# Define your VAT model (as in your original code)\n",
        "class VATModel(nn.Module):\n",
        "    def __init__(self):\n",
        "        super(VATModel, self).__init__()\n",
        "        self.conv1 = nn.Conv2d(3, 32, 3, padding=1)\n",
        "        self.pool = nn.MaxPool2d(2, 2)\n",
        "        self.fc1 = nn.Linear(32 * 16 * 16, 10)\n",
        "\n",
        "    def forward(self, x):\n",
        "        x = self.pool(torch.relu(self.conv1(x)))\n",
        "        x = x.view(-1, 32 * 16 * 16)\n",
        "        x = self.fc1(x)\n",
        "        return x\n",
        "\n",
        "# Define VAT loss function\n",
        "def virtual_adversarial_loss(model, x, epsilon=1e-6):\n",
        "    x.requires_grad_()\n",
        "    logits = model(x)\n",
        "\n",
        "    # Virtual adversarial perturbation\n",
        "    loss = F.cross_entropy(logits, torch.max(logits, 1)[1])\n",
        "    loss.backward()\n",
        "    grad = x.grad\n",
        "\n",
        "    # Perturbation\n",
        "    perturbation = epsilon * torch.sign(grad)\n",
        "\n",
        "    # Perturbed data\n",
        "    x_perturbed = x + perturbation\n",
        "    logits_perturbed = model(x_perturbed)\n",
        "    loss_perturbed = F.cross_entropy(logits_perturbed, torch.max(logits, 1)[1])\n",
        "\n",
        "    return loss_perturbed\n",
        "\n",
        "# Combined loss for VAT model\n",
        "def vat_loss(model, x, labels, criterion, epsilon=1e-6, alpha=1.0):\n",
        "    # Cross-entropy loss for labeled data\n",
        "    ce_loss = criterion(model(x), labels)\n",
        "\n",
        "    # Virtual adversarial loss (VAT)\n",
        "    va_loss = virtual_adversarial_loss(model, x, epsilon)\n",
        "\n",
        "    return ce_loss + alpha * va_loss\n",
        "\n",
        "# Training function for VAT model\n",
        "def train_vat_model(model, labeled_trainloader, unlabeled_trainloader, criterion, optimizer, num_epochs=10, epsilon=1e-6, alpha=1.0):\n",
        "    model.train()\n",
        "    for epoch in range(num_epochs):\n",
        "        running_loss = 0.0\n",
        "        for (inputs, labels), (inputs_unlabeled, _) in zip(labeled_trainloader, unlabeled_trainloader):\n",
        "            optimizer.zero_grad()\n",
        "            # Train on labeled data with VAT applied to unlabeled data\n",
        "            loss = vat_loss(model, inputs, labels, criterion, epsilon, alpha)\n",
        "            loss.backward()\n",
        "            optimizer.step()\n",
        "            running_loss += loss.item()\n",
        "        print(f\"Epoch {epoch+1}, Loss: {running_loss/len(labeled_trainloader)}\")\n",
        "\n"
      ],
      "metadata": {
        "id": "weoQUG8K5cQp"
      },
      "execution_count": null,
      "outputs": []
    },
    {
      "cell_type": "code",
      "source": [
        "# Optuna objective function for hyperparameter search\n",
        "def optimize_vat_hyperparameters_matched(labeled_trainset, unlabeled_dataset_matched, test_dataset):\n",
        "    def objective(trial):\n",
        "        # Suggest hyperparameters\n",
        "        lr = trial.suggest_loguniform('lr', 1e-5, 1e-1)\n",
        "        momentum = trial.suggest_uniform('momentum', 0.8, 0.95)\n",
        "        epsilon = trial.suggest_loguniform('epsilon', 1e-6, 1e-1)\n",
        "        alpha = trial.suggest_uniform('alpha', 0.5, 2.0)\n",
        "        batch_size = trial.suggest_categorical('batch_size', [32, 64, 128])\n",
        "\n",
        "        # Create model, optimizer, and criterion\n",
        "        model = VATModel()\n",
        "        optimizer = optim.SGD(model.parameters(), lr=lr, momentum=momentum)\n",
        "        criterion = nn.CrossEntropyLoss()\n",
        "\n",
        "        # DataLoader for current batch size\n",
        "        labeled_trainloader = DataLoader(labeled_trainset, batch_size=batch_size, shuffle=True)\n",
        "        unlabeled_trainloader = DataLoader(unlabeled_dataset_matched, batch_size=batch_size, shuffle=True)\n",
        "        testloader = DataLoader(test_dataset, batch_size=batch_size, shuffle=False)\n",
        "\n",
        "        # Train the VAT model\n",
        "        train_vat_model(model, labeled_trainloader, unlabeled_trainloader, criterion, optimizer, num_epochs=10, epsilon=epsilon, alpha=alpha)\n",
        "\n",
        "        # Evaluate the model after training\n",
        "        model.eval()\n",
        "        correct = 0\n",
        "        total = 0\n",
        "        with torch.no_grad():\n",
        "            for inputs, labels in testloader:\n",
        "                outputs = model(inputs)\n",
        "                _, predicted = torch.max(outputs, 1)\n",
        "                total += labels.size(0)\n",
        "                correct += (predicted == labels).sum().item()\n",
        "\n",
        "        accuracy = 100 * correct / total\n",
        "        return accuracy  # Maximize accuracy\n",
        "\n",
        "    study = optuna.create_study(direction=\"maximize\")\n",
        "    study.optimize(objective, n_trials=20)\n",
        "\n",
        "    print(f\"Best trial: {study.best_trial.value}\")\n",
        "    print(f\"Best hyperparameters: {study.best_trial.params}\")\n",
        "    return study.best_trial.params\n",
        "\n",
        "# Run hyperparameter optimization\n",
        "vat_best_params_matched = optimize_vat_hyperparameters_matched(labeled_dataset, unlabeled_dataset_matched, test_dataset)\n"
      ],
      "metadata": {
        "colab": {
          "base_uri": "https://localhost:8080/"
        },
        "id": "uM5DoOV7670F",
        "outputId": "35a7392a-4f65-46e2-81ba-94b0195682cd"
      },
      "execution_count": null,
      "outputs": [
        {
          "output_type": "stream",
          "name": "stderr",
          "text": [
            "[I 2025-08-31 18:24:45,733] A new study created in memory with name: no-name-03c09443-4489-40b9-8425-e0951a752d0f\n",
            "/tmp/ipython-input-2690866051.py:5: FutureWarning: suggest_loguniform has been deprecated in v3.0.0. This feature will be removed in v6.0.0. See https://github.com/optuna/optuna/releases/tag/v3.0.0. Use suggest_float(..., log=True) instead.\n",
            "  lr = trial.suggest_loguniform('lr', 1e-5, 1e-1)\n",
            "/tmp/ipython-input-2690866051.py:6: FutureWarning: suggest_uniform has been deprecated in v3.0.0. This feature will be removed in v6.0.0. See https://github.com/optuna/optuna/releases/tag/v3.0.0. Use suggest_float instead.\n",
            "  momentum = trial.suggest_uniform('momentum', 0.8, 0.95)\n",
            "/tmp/ipython-input-2690866051.py:7: FutureWarning: suggest_loguniform has been deprecated in v3.0.0. This feature will be removed in v6.0.0. See https://github.com/optuna/optuna/releases/tag/v3.0.0. Use suggest_float(..., log=True) instead.\n",
            "  epsilon = trial.suggest_loguniform('epsilon', 1e-6, 1e-1)\n",
            "/tmp/ipython-input-2690866051.py:8: FutureWarning: suggest_uniform has been deprecated in v3.0.0. This feature will be removed in v6.0.0. See https://github.com/optuna/optuna/releases/tag/v3.0.0. Use suggest_float instead.\n",
            "  alpha = trial.suggest_uniform('alpha', 0.5, 2.0)\n"
          ]
        },
        {
          "output_type": "stream",
          "name": "stdout",
          "text": [
            "Epoch 1, Loss: 5.746415913105011\n",
            "Epoch 2, Loss: 4.244392931461334\n",
            "Epoch 3, Loss: 4.0668825507164\n",
            "Epoch 4, Loss: 4.045694470405579\n",
            "Epoch 5, Loss: 3.9295566082000732\n",
            "Epoch 6, Loss: 3.850757896900177\n",
            "Epoch 7, Loss: 3.8108320236206055\n",
            "Epoch 8, Loss: 3.7859797179698944\n",
            "Epoch 9, Loss: 3.7598597705364227\n",
            "Epoch 10, Loss: 3.7353614270687103\n"
          ]
        },
        {
          "output_type": "stream",
          "name": "stderr",
          "text": [
            "[I 2025-08-31 18:24:55,394] Trial 0 finished with value: 0.0 and parameters: {'lr': 8.892827860693845e-05, 'momentum': 0.8165787415538287, 'epsilon': 0.004807013200551114, 'alpha': 1.7438351456004677, 'batch_size': 64}. Best is trial 0 with value: 0.0.\n"
          ]
        },
        {
          "output_type": "stream",
          "name": "stdout",
          "text": [
            "Epoch 1, Loss: 7.300357758998871\n",
            "Epoch 2, Loss: 3.092135012149811\n",
            "Epoch 3, Loss: 2.943705290555954\n",
            "Epoch 4, Loss: 2.8504227101802826\n",
            "Epoch 5, Loss: 2.7877358496189117\n",
            "Epoch 6, Loss: 2.6923046708106995\n",
            "Epoch 7, Loss: 2.680820971727371\n",
            "Epoch 8, Loss: 2.4882522523403168\n",
            "Epoch 9, Loss: 1.996351957321167\n",
            "Epoch 10, Loss: 1.9411850720643997\n"
          ]
        },
        {
          "output_type": "stream",
          "name": "stderr",
          "text": [
            "[I 2025-08-31 18:25:04,750] Trial 1 finished with value: 45.2 and parameters: {'lr': 0.039392867456184186, 'momentum': 0.8084706917365048, 'epsilon': 0.00010795425704257897, 'alpha': 0.9146661375924272, 'batch_size': 64}. Best is trial 1 with value: 45.2.\n"
          ]
        },
        {
          "output_type": "stream",
          "name": "stdout",
          "text": [
            "Epoch 1, Loss: 6.546910375356674\n",
            "Epoch 2, Loss: 5.759154707193375\n",
            "Epoch 3, Loss: 3.1373575627803802\n",
            "Epoch 4, Loss: 3.1854323744773865\n",
            "Epoch 5, Loss: 3.0762452483177185\n",
            "Epoch 6, Loss: 2.963134378194809\n",
            "Epoch 7, Loss: 2.985699623823166\n",
            "Epoch 8, Loss: 2.975782662630081\n",
            "Epoch 9, Loss: 2.9547628462314606\n",
            "Epoch 10, Loss: 2.936725467443466\n"
          ]
        },
        {
          "output_type": "stream",
          "name": "stderr",
          "text": [
            "[I 2025-08-31 18:25:13,581] Trial 2 finished with value: 0.0 and parameters: {'lr': 0.08293698469467087, 'momentum': 0.851611940504395, 'epsilon': 2.4701217040072724e-06, 'alpha': 0.6597357202092249, 'batch_size': 64}. Best is trial 1 with value: 45.2.\n"
          ]
        },
        {
          "output_type": "stream",
          "name": "stdout",
          "text": [
            "Epoch 1, Loss: 5.135594487190247\n",
            "Epoch 2, Loss: 3.589616596698761\n",
            "Epoch 3, Loss: 3.7653138637542725\n",
            "Epoch 4, Loss: 3.55094575881958\n",
            "Epoch 5, Loss: 3.3751757740974426\n",
            "Epoch 6, Loss: 3.365889847278595\n",
            "Epoch 7, Loss: 3.283487558364868\n",
            "Epoch 8, Loss: 3.2540098428726196\n",
            "Epoch 9, Loss: 3.2287344336509705\n",
            "Epoch 10, Loss: 3.2080928683280945\n"
          ]
        },
        {
          "output_type": "stream",
          "name": "stderr",
          "text": [
            "[I 2025-08-31 18:25:23,874] Trial 3 finished with value: 0.02 and parameters: {'lr': 0.00523584047140258, 'momentum': 0.8198568736166127, 'epsilon': 0.002211914224356503, 'alpha': 1.5653432178455486, 'batch_size': 128}. Best is trial 1 with value: 45.2.\n"
          ]
        },
        {
          "output_type": "stream",
          "name": "stdout",
          "text": [
            "Epoch 1, Loss: 4.740305945277214\n",
            "Epoch 2, Loss: 3.6801762729883194\n",
            "Epoch 3, Loss: 3.1386569142341614\n",
            "Epoch 4, Loss: 3.0267796218395233\n",
            "Epoch 5, Loss: 2.858112618327141\n",
            "Epoch 6, Loss: 2.8518353402614594\n",
            "Epoch 7, Loss: 2.7765904515981674\n",
            "Epoch 8, Loss: 2.77156138420105\n",
            "Epoch 9, Loss: 2.75070957839489\n",
            "Epoch 10, Loss: 2.7288930416107178\n"
          ]
        },
        {
          "output_type": "stream",
          "name": "stderr",
          "text": [
            "[I 2025-08-31 18:25:33,597] Trial 4 finished with value: 20.0 and parameters: {'lr': 0.00021166689291476275, 'momentum': 0.9471256865920739, 'epsilon': 0.00020072368246341397, 'alpha': 1.856304064379692, 'batch_size': 32}. Best is trial 1 with value: 45.2.\n"
          ]
        },
        {
          "output_type": "stream",
          "name": "stdout",
          "text": [
            "Epoch 1, Loss: 3.7583901435136795\n",
            "Epoch 2, Loss: 2.6528163999319077\n",
            "Epoch 3, Loss: 2.4406590163707733\n",
            "Epoch 4, Loss: 2.59593802690506\n",
            "Epoch 5, Loss: 2.3340522572398186\n",
            "Epoch 6, Loss: 2.301894783973694\n",
            "Epoch 7, Loss: 2.1738933697342873\n",
            "Epoch 8, Loss: 2.1318660378456116\n",
            "Epoch 9, Loss: 2.153790906071663\n",
            "Epoch 10, Loss: 2.0745812952518463\n"
          ]
        },
        {
          "output_type": "stream",
          "name": "stderr",
          "text": [
            "[I 2025-08-31 18:25:42,894] Trial 5 finished with value: 20.02 and parameters: {'lr': 0.03099871162356269, 'momentum': 0.8824708760452943, 'epsilon': 0.09746689248457423, 'alpha': 0.5500689378621928, 'batch_size': 32}. Best is trial 1 with value: 45.2.\n"
          ]
        },
        {
          "output_type": "stream",
          "name": "stdout",
          "text": [
            "Epoch 1, Loss: 6.2355475425720215\n",
            "Epoch 2, Loss: 6.029686450958252\n",
            "Epoch 3, Loss: 5.728898525238037\n",
            "Epoch 4, Loss: 5.408909320831299\n",
            "Epoch 5, Loss: 5.105503797531128\n",
            "Epoch 6, Loss: 4.846235275268555\n",
            "Epoch 7, Loss: 4.633120059967041\n",
            "Epoch 8, Loss: 4.467477917671204\n",
            "Epoch 9, Loss: 4.344945073127747\n",
            "Epoch 10, Loss: 4.255386233329773\n"
          ]
        },
        {
          "output_type": "stream",
          "name": "stderr",
          "text": [
            "[I 2025-08-31 18:25:52,908] Trial 6 finished with value: 0.0 and parameters: {'lr': 1.3502765279278787e-05, 'momentum': 0.8469162868484829, 'epsilon': 0.000430499157472243, 'alpha': 1.942211416942249, 'batch_size': 128}. Best is trial 1 with value: 45.2.\n"
          ]
        },
        {
          "output_type": "stream",
          "name": "stdout",
          "text": [
            "Epoch 1, Loss: 4.007726743817329\n",
            "Epoch 2, Loss: 3.469256415963173\n",
            "Epoch 3, Loss: 2.9380220770835876\n",
            "Epoch 4, Loss: 2.941047579050064\n",
            "Epoch 5, Loss: 2.893244832754135\n",
            "Epoch 6, Loss: 2.8549222350120544\n",
            "Epoch 7, Loss: 2.8512698858976364\n",
            "Epoch 8, Loss: 2.8079775124788284\n",
            "Epoch 9, Loss: 2.829163581132889\n",
            "Epoch 10, Loss: 2.7925335615873337\n"
          ]
        },
        {
          "output_type": "stream",
          "name": "stderr",
          "text": [
            "[I 2025-08-31 18:26:03,354] Trial 7 finished with value: 20.0 and parameters: {'lr': 7.417593642242882e-05, 'momentum': 0.8837162786314473, 'epsilon': 1.3747851046433773e-06, 'alpha': 1.5440040347701292, 'batch_size': 32}. Best is trial 1 with value: 45.2.\n"
          ]
        },
        {
          "output_type": "stream",
          "name": "stdout",
          "text": [
            "Epoch 1, Loss: 3.5652047842741013\n",
            "Epoch 2, Loss: 2.7879005819559097\n",
            "Epoch 3, Loss: 2.6137204989790916\n",
            "Epoch 4, Loss: 2.5196220874786377\n",
            "Epoch 5, Loss: 2.4993727803230286\n",
            "Epoch 6, Loss: 2.433640941977501\n",
            "Epoch 7, Loss: 2.4266971200704575\n",
            "Epoch 8, Loss: 2.4189950078725815\n",
            "Epoch 9, Loss: 2.4034915417432785\n",
            "Epoch 10, Loss: 2.3976496160030365\n"
          ]
        },
        {
          "output_type": "stream",
          "name": "stderr",
          "text": [
            "[I 2025-08-31 18:26:13,549] Trial 8 finished with value: 20.08 and parameters: {'lr': 0.0012028364728199701, 'momentum': 0.8856548742404474, 'epsilon': 4.214893066172526e-05, 'alpha': 1.3202483418393753, 'batch_size': 32}. Best is trial 1 with value: 45.2.\n"
          ]
        },
        {
          "output_type": "stream",
          "name": "stdout",
          "text": [
            "Epoch 1, Loss: 3.881536439061165\n",
            "Epoch 2, Loss: 2.9477327167987823\n",
            "Epoch 3, Loss: 2.8450124859809875\n",
            "Epoch 4, Loss: 2.792622223496437\n",
            "Epoch 5, Loss: 2.7618418782949448\n",
            "Epoch 6, Loss: 2.7196883857250214\n",
            "Epoch 7, Loss: 2.7008015662431717\n",
            "Epoch 8, Loss: 2.6955473124980927\n",
            "Epoch 9, Loss: 2.680391013622284\n",
            "Epoch 10, Loss: 2.6449960619211197\n"
          ]
        },
        {
          "output_type": "stream",
          "name": "stderr",
          "text": [
            "[I 2025-08-31 18:26:22,981] Trial 9 finished with value: 20.0 and parameters: {'lr': 0.0003917084728945756, 'momentum': 0.8251671893951924, 'epsilon': 2.3573801222378487e-06, 'alpha': 1.5306835006607367, 'batch_size': 32}. Best is trial 1 with value: 45.2.\n"
          ]
        },
        {
          "output_type": "stream",
          "name": "stdout",
          "text": [
            "Epoch 1, Loss: 3.455629140138626\n",
            "Epoch 2, Loss: 2.6353745460510254\n",
            "Epoch 3, Loss: 2.4996513426303864\n",
            "Epoch 4, Loss: 2.4337198436260223\n",
            "Epoch 5, Loss: 2.3474223017692566\n",
            "Epoch 6, Loss: 2.2939636409282684\n",
            "Epoch 7, Loss: 2.237029016017914\n",
            "Epoch 8, Loss: 2.225079581141472\n",
            "Epoch 9, Loss: 2.1453365683555603\n",
            "Epoch 10, Loss: 2.0737491101026535\n"
          ]
        },
        {
          "output_type": "stream",
          "name": "stderr",
          "text": [
            "[I 2025-08-31 18:26:33,057] Trial 10 finished with value: 25.62 and parameters: {'lr': 0.008884787751878941, 'momentum': 0.9242990820038957, 'epsilon': 2.7296292912770137e-05, 'alpha': 0.9650132591337295, 'batch_size': 64}. Best is trial 1 with value: 45.2.\n"
          ]
        },
        {
          "output_type": "stream",
          "name": "stdout",
          "text": [
            "Epoch 1, Loss: 3.7572313845157623\n",
            "Epoch 2, Loss: 3.0650834143161774\n",
            "Epoch 3, Loss: 2.8922678232192993\n",
            "Epoch 4, Loss: 2.6615352630615234\n",
            "Epoch 5, Loss: 2.363279938697815\n",
            "Epoch 6, Loss: 2.1490772664546967\n",
            "Epoch 7, Loss: 1.9163187891244888\n",
            "Epoch 8, Loss: 1.7636170834302902\n",
            "Epoch 9, Loss: 1.6891618371009827\n",
            "Epoch 10, Loss: 1.6170461177825928\n"
          ]
        },
        {
          "output_type": "stream",
          "name": "stderr",
          "text": [
            "[I 2025-08-31 18:26:42,928] Trial 11 finished with value: 51.32 and parameters: {'lr': 0.01402234428085212, 'momentum': 0.9263142297171456, 'epsilon': 2.6795681104740794e-05, 'alpha': 0.9301744751054642, 'batch_size': 64}. Best is trial 11 with value: 51.32.\n"
          ]
        },
        {
          "output_type": "stream",
          "name": "stdout",
          "text": [
            "Epoch 1, Loss: 4.055797129869461\n",
            "Epoch 2, Loss: 2.9141605496406555\n",
            "Epoch 3, Loss: 2.5962206423282623\n",
            "Epoch 4, Loss: 2.464973032474518\n",
            "Epoch 5, Loss: 2.3257614374160767\n",
            "Epoch 6, Loss: 2.253147214651108\n",
            "Epoch 7, Loss: 2.226531147956848\n",
            "Epoch 8, Loss: 2.237404704093933\n",
            "Epoch 9, Loss: 2.154686838388443\n",
            "Epoch 10, Loss: 2.1844119280576706\n"
          ]
        },
        {
          "output_type": "stream",
          "name": "stderr",
          "text": [
            "[I 2025-08-31 18:26:52,579] Trial 12 finished with value: 24.88 and parameters: {'lr': 0.009400935196094815, 'momentum': 0.9188760183095172, 'epsilon': 2.030446916186564e-05, 'alpha': 0.9667625699171133, 'batch_size': 64}. Best is trial 11 with value: 51.32.\n"
          ]
        },
        {
          "output_type": "stream",
          "name": "stdout",
          "text": [
            "Epoch 1, Loss: 13.818040013313293\n",
            "Epoch 2, Loss: 2.9563622176647186\n",
            "Epoch 3, Loss: 3.061054915189743\n",
            "Epoch 4, Loss: 2.6293070316314697\n",
            "Epoch 5, Loss: 2.5235276222229004\n",
            "Epoch 6, Loss: 2.593235045671463\n",
            "Epoch 7, Loss: 2.5761947631835938\n",
            "Epoch 8, Loss: 2.548957258462906\n",
            "Epoch 9, Loss: 2.5513589680194855\n",
            "Epoch 10, Loss: 2.529259353876114\n"
          ]
        },
        {
          "output_type": "stream",
          "name": "stderr",
          "text": [
            "[I 2025-08-31 18:27:01,501] Trial 13 finished with value: 20.0 and parameters: {'lr': 0.09721826071163699, 'momentum': 0.9065312017980335, 'epsilon': 0.00016834415903081525, 'alpha': 0.91745402736536, 'batch_size': 64}. Best is trial 11 with value: 51.32.\n"
          ]
        },
        {
          "output_type": "stream",
          "name": "stdout",
          "text": [
            "Epoch 1, Loss: 3.860670953989029\n",
            "Epoch 2, Loss: 3.3149794936180115\n",
            "Epoch 3, Loss: 3.1531527638435364\n",
            "Epoch 4, Loss: 3.137250691652298\n",
            "Epoch 5, Loss: 3.095667690038681\n",
            "Epoch 6, Loss: 3.0515438318252563\n",
            "Epoch 7, Loss: 3.02804297208786\n",
            "Epoch 8, Loss: 3.0032673478126526\n",
            "Epoch 9, Loss: 2.9846799075603485\n",
            "Epoch 10, Loss: 2.950044721364975\n"
          ]
        },
        {
          "output_type": "stream",
          "name": "stderr",
          "text": [
            "[I 2025-08-31 18:27:11,670] Trial 14 finished with value: 0.04 and parameters: {'lr': 0.002624850487407937, 'momentum': 0.8028051371367436, 'epsilon': 1.152677589495637e-05, 'alpha': 1.1744274740672251, 'batch_size': 64}. Best is trial 11 with value: 51.32.\n"
          ]
        },
        {
          "output_type": "stream",
          "name": "stdout",
          "text": [
            "Epoch 1, Loss: 4.771124631166458\n",
            "Epoch 2, Loss: 2.646206498146057\n",
            "Epoch 3, Loss: 2.698564499616623\n",
            "Epoch 4, Loss: 2.4067192524671555\n",
            "Epoch 5, Loss: 2.2592411637306213\n",
            "Epoch 6, Loss: 2.2674901485443115\n",
            "Epoch 7, Loss: 2.1722770035266876\n",
            "Epoch 8, Loss: 2.1267228722572327\n",
            "Epoch 9, Loss: 2.0174684673547745\n",
            "Epoch 10, Loss: 2.063022240996361\n"
          ]
        },
        {
          "output_type": "stream",
          "name": "stderr",
          "text": [
            "[I 2025-08-31 18:27:20,682] Trial 15 finished with value: 29.28 and parameters: {'lr': 0.024423332294690705, 'momentum': 0.8562953819968082, 'epsilon': 0.0012874414077168053, 'alpha': 0.7839939538622713, 'batch_size': 64}. Best is trial 11 with value: 51.32.\n"
          ]
        },
        {
          "output_type": "stream",
          "name": "stdout",
          "text": [
            "Epoch 1, Loss: 5.10574597120285\n",
            "Epoch 2, Loss: 3.252073258161545\n",
            "Epoch 3, Loss: 2.695820778608322\n",
            "Epoch 4, Loss: 2.472589433193207\n",
            "Epoch 5, Loss: 2.439771384000778\n",
            "Epoch 6, Loss: 2.4861997961997986\n",
            "Epoch 7, Loss: 2.2947848290205\n",
            "Epoch 8, Loss: 2.3757092654705048\n",
            "Epoch 9, Loss: 2.102217435836792\n",
            "Epoch 10, Loss: 1.8734910190105438\n"
          ]
        },
        {
          "output_type": "stream",
          "name": "stderr",
          "text": [
            "[I 2025-08-31 18:27:29,743] Trial 16 finished with value: 42.58 and parameters: {'lr': 0.02645804328523259, 'momentum': 0.949777873890902, 'epsilon': 8.12313273263049e-05, 'alpha': 1.1764258788146287, 'batch_size': 64}. Best is trial 11 with value: 51.32.\n"
          ]
        },
        {
          "output_type": "stream",
          "name": "stdout",
          "text": [
            "Epoch 1, Loss: 3.999134361743927\n",
            "Epoch 2, Loss: 3.570305585861206\n",
            "Epoch 3, Loss: 2.9540740847587585\n",
            "Epoch 4, Loss: 3.410391330718994\n",
            "Epoch 5, Loss: 2.8902939558029175\n",
            "Epoch 6, Loss: 2.946684241294861\n",
            "Epoch 7, Loss: 3.0200814604759216\n",
            "Epoch 8, Loss: 2.769712507724762\n",
            "Epoch 9, Loss: 2.9255350828170776\n",
            "Epoch 10, Loss: 2.7502288818359375\n"
          ]
        },
        {
          "output_type": "stream",
          "name": "stderr",
          "text": [
            "[I 2025-08-31 18:27:40,267] Trial 17 finished with value: 0.0 and parameters: {'lr': 0.0026343219441450467, 'momentum': 0.89996924800537, 'epsilon': 8.901867663512072e-06, 'alpha': 0.792776241368988, 'batch_size': 128}. Best is trial 11 with value: 51.32.\n"
          ]
        },
        {
          "output_type": "stream",
          "name": "stdout",
          "text": [
            "Epoch 1, Loss: 5.031347751617432\n",
            "Epoch 2, Loss: 3.1014425456523895\n",
            "Epoch 3, Loss: 2.5692698657512665\n",
            "Epoch 4, Loss: 2.4600878059864044\n",
            "Epoch 5, Loss: 2.3899212181568146\n",
            "Epoch 6, Loss: 2.3284261226654053\n",
            "Epoch 7, Loss: 2.353777140378952\n",
            "Epoch 8, Loss: 2.296573668718338\n",
            "Epoch 9, Loss: 2.253595918416977\n",
            "Epoch 10, Loss: 2.2409298717975616\n"
          ]
        },
        {
          "output_type": "stream",
          "name": "stderr",
          "text": [
            "[I 2025-08-31 18:27:48,861] Trial 18 finished with value: 20.36 and parameters: {'lr': 0.016507978102849402, 'momentum': 0.8658270420640056, 'epsilon': 0.012451761907393954, 'alpha': 1.0637917418649951, 'batch_size': 64}. Best is trial 11 with value: 51.32.\n"
          ]
        },
        {
          "output_type": "stream",
          "name": "stdout",
          "text": [
            "Epoch 1, Loss: 5.751191943883896\n",
            "Epoch 2, Loss: 4.629536926746368\n",
            "Epoch 3, Loss: 3.694872707128525\n",
            "Epoch 4, Loss: 3.4862941205501556\n",
            "Epoch 5, Loss: 3.2616510689258575\n",
            "Epoch 6, Loss: 3.169640839099884\n",
            "Epoch 7, Loss: 3.149499386548996\n",
            "Epoch 8, Loss: 3.1239308416843414\n",
            "Epoch 9, Loss: 2.989276885986328\n",
            "Epoch 10, Loss: 2.9996210038661957\n"
          ]
        },
        {
          "output_type": "stream",
          "name": "stderr",
          "text": [
            "[I 2025-08-31 18:27:58,036] Trial 19 finished with value: 5.58 and parameters: {'lr': 0.04674424887432321, 'momentum': 0.8356189726894264, 'epsilon': 6.126891328737915e-06, 'alpha': 1.3317637901625643, 'batch_size': 64}. Best is trial 11 with value: 51.32.\n"
          ]
        },
        {
          "output_type": "stream",
          "name": "stdout",
          "text": [
            "Best trial: 51.32\n",
            "Best hyperparameters: {'lr': 0.01402234428085212, 'momentum': 0.9263142297171456, 'epsilon': 2.6795681104740794e-05, 'alpha': 0.9301744751054642, 'batch_size': 64}\n"
          ]
        }
      ]
    },
    {
      "cell_type": "code",
      "source": [
        "vat_best_params_matched"
      ],
      "metadata": {
        "colab": {
          "base_uri": "https://localhost:8080/"
        },
        "id": "a4ldh-59_Rg_",
        "outputId": "2ec6f5e8-2ab8-40ea-fd4e-6753a30a0fac"
      },
      "execution_count": null,
      "outputs": [
        {
          "output_type": "execute_result",
          "data": {
            "text/plain": [
              "{'lr': 0.01402234428085212,\n",
              " 'momentum': 0.9263142297171456,\n",
              " 'epsilon': 2.6795681104740794e-05,\n",
              " 'alpha': 0.9301744751054642,\n",
              " 'batch_size': 64}"
            ]
          },
          "metadata": {},
          "execution_count": 25
        }
      ]
    },
    {
      "cell_type": "code",
      "source": [
        "# Optuna objective function for hyperparameter search\n",
        "def optimize_vat_hyperparameters_mismatched(labeled_trainset, unlabeled_dataset_mismatched, test_dataset):\n",
        "    def objective(trial):\n",
        "        # Suggest hyperparameters\n",
        "        lr = trial.suggest_loguniform('lr', 1e-5, 1e-1)\n",
        "        momentum = trial.suggest_uniform('momentum', 0.8, 0.95)\n",
        "        epsilon = trial.suggest_loguniform('epsilon', 1e-6, 1e-1)\n",
        "        alpha = trial.suggest_uniform('alpha', 0.5, 2.0)\n",
        "        batch_size = trial.suggest_categorical('batch_size', [32, 64, 128])\n",
        "\n",
        "        # Create model, optimizer, and criterion\n",
        "        model = VATModel()\n",
        "        optimizer = optim.SGD(model.parameters(), lr=lr, momentum=momentum)\n",
        "        criterion = nn.CrossEntropyLoss()\n",
        "\n",
        "        # DataLoader for current batch size\n",
        "        labeled_trainloader = DataLoader(labeled_trainset, batch_size=batch_size, shuffle=True)\n",
        "        unlabeled_trainloader = DataLoader(unlabeled_dataset_mismatched, batch_size=batch_size, shuffle=True)\n",
        "        testloader = DataLoader(test_dataset, batch_size=batch_size, shuffle=False)\n",
        "\n",
        "        # Train the VAT model\n",
        "        train_vat_model(model, labeled_trainloader, unlabeled_trainloader, criterion, optimizer, num_epochs=10, epsilon=epsilon, alpha=alpha)\n",
        "\n",
        "        # Evaluate the model after training\n",
        "        model.eval()\n",
        "        correct = 0\n",
        "        total = 0\n",
        "        with torch.no_grad():\n",
        "            for inputs, labels in testloader:\n",
        "                outputs = model(inputs)\n",
        "                _, predicted = torch.max(outputs, 1)\n",
        "                total += labels.size(0)\n",
        "                correct += (predicted == labels).sum().item()\n",
        "\n",
        "        accuracy = 100 * correct / total\n",
        "        return accuracy  # Maximize accuracy\n",
        "\n",
        "    study = optuna.create_study(direction=\"maximize\")\n",
        "    study.optimize(objective, n_trials=20)\n",
        "\n",
        "    print(f\"Best trial: {study.best_trial.value}\")\n",
        "    print(f\"Best hyperparameters: {study.best_trial.params}\")\n",
        "    return study.best_trial.params\n",
        "\n",
        "# Run hyperparameter optimization\n",
        "vat_best_params_mismatched = optimize_vat_hyperparameters_matched(labeled_dataset, unlabeled_dataset_mismatched, test_dataset)"
      ],
      "metadata": {
        "colab": {
          "base_uri": "https://localhost:8080/"
        },
        "id": "-7AuJEDc7rgJ",
        "outputId": "8bda9483-682e-4d9f-e64d-26e3e8d644cd"
      },
      "execution_count": null,
      "outputs": [
        {
          "output_type": "stream",
          "name": "stderr",
          "text": [
            "[I 2025-08-31 18:28:12,691] A new study created in memory with name: no-name-c77a8eb6-828f-4a38-98af-4dd7f5d9a7e3\n",
            "/tmp/ipython-input-2690866051.py:5: FutureWarning: suggest_loguniform has been deprecated in v3.0.0. This feature will be removed in v6.0.0. See https://github.com/optuna/optuna/releases/tag/v3.0.0. Use suggest_float(..., log=True) instead.\n",
            "  lr = trial.suggest_loguniform('lr', 1e-5, 1e-1)\n",
            "/tmp/ipython-input-2690866051.py:6: FutureWarning: suggest_uniform has been deprecated in v3.0.0. This feature will be removed in v6.0.0. See https://github.com/optuna/optuna/releases/tag/v3.0.0. Use suggest_float instead.\n",
            "  momentum = trial.suggest_uniform('momentum', 0.8, 0.95)\n",
            "/tmp/ipython-input-2690866051.py:7: FutureWarning: suggest_loguniform has been deprecated in v3.0.0. This feature will be removed in v6.0.0. See https://github.com/optuna/optuna/releases/tag/v3.0.0. Use suggest_float(..., log=True) instead.\n",
            "  epsilon = trial.suggest_loguniform('epsilon', 1e-6, 1e-1)\n",
            "/tmp/ipython-input-2690866051.py:8: FutureWarning: suggest_uniform has been deprecated in v3.0.0. This feature will be removed in v6.0.0. See https://github.com/optuna/optuna/releases/tag/v3.0.0. Use suggest_float instead.\n",
            "  alpha = trial.suggest_uniform('alpha', 0.5, 2.0)\n"
          ]
        },
        {
          "output_type": "stream",
          "name": "stdout",
          "text": [
            "Epoch 1, Loss: 5.493642807006836\n",
            "Epoch 2, Loss: 5.433537125587463\n",
            "Epoch 3, Loss: 5.312277555465698\n",
            "Epoch 4, Loss: 5.149728298187256\n",
            "Epoch 5, Loss: 4.959857225418091\n",
            "Epoch 6, Loss: 4.772050976753235\n",
            "Epoch 7, Loss: 4.597423553466797\n",
            "Epoch 8, Loss: 4.444145083427429\n",
            "Epoch 9, Loss: 4.311676740646362\n",
            "Epoch 10, Loss: 4.202258110046387\n"
          ]
        },
        {
          "output_type": "stream",
          "name": "stderr",
          "text": [
            "[I 2025-08-31 18:28:23,199] Trial 0 finished with value: 0.0 and parameters: {'lr': 1.3705168403783135e-05, 'momentum': 0.8476471254577693, 'epsilon': 0.0012334876874666102, 'alpha': 1.4647879171891889, 'batch_size': 128}. Best is trial 0 with value: 0.0.\n"
          ]
        },
        {
          "output_type": "stream",
          "name": "stdout",
          "text": [
            "Epoch 1, Loss: 3.851985141634941\n",
            "Epoch 2, Loss: 3.1754719018936157\n",
            "Epoch 3, Loss: 2.798367902636528\n",
            "Epoch 4, Loss: 2.746817499399185\n",
            "Epoch 5, Loss: 2.6956291049718857\n",
            "Epoch 6, Loss: 2.6849756687879562\n",
            "Epoch 7, Loss: 2.648725464940071\n",
            "Epoch 8, Loss: 2.648920938372612\n",
            "Epoch 9, Loss: 2.6147817075252533\n",
            "Epoch 10, Loss: 2.6250879913568497\n"
          ]
        },
        {
          "output_type": "stream",
          "name": "stderr",
          "text": [
            "[I 2025-08-31 18:28:33,622] Trial 1 finished with value: 20.0 and parameters: {'lr': 0.00010111045333785887, 'momentum': 0.9016866063305384, 'epsilon': 0.03648640410201572, 'alpha': 1.1495837182309134, 'batch_size': 32}. Best is trial 1 with value: 20.0.\n"
          ]
        },
        {
          "output_type": "stream",
          "name": "stdout",
          "text": [
            "Epoch 1, Loss: 4.003889292478561\n",
            "Epoch 2, Loss: 4.169368743896484\n",
            "Epoch 3, Loss: 3.198624938726425\n",
            "Epoch 4, Loss: 2.750593602657318\n",
            "Epoch 5, Loss: 2.8084335327148438\n",
            "Epoch 6, Loss: 2.917293757200241\n",
            "Epoch 7, Loss: 2.6764546036720276\n",
            "Epoch 8, Loss: 2.6653055548667908\n",
            "Epoch 9, Loss: 2.7407513558864594\n",
            "Epoch 10, Loss: 2.66597181558609\n"
          ]
        },
        {
          "output_type": "stream",
          "name": "stderr",
          "text": [
            "[I 2025-08-31 18:28:43,768] Trial 2 finished with value: 20.0 and parameters: {'lr': 0.00017097092673133322, 'momentum': 0.9243701626543077, 'epsilon': 1.7010554518769846e-06, 'alpha': 1.367952923602887, 'batch_size': 64}. Best is trial 1 with value: 20.0.\n"
          ]
        },
        {
          "output_type": "stream",
          "name": "stdout",
          "text": [
            "Epoch 1, Loss: 4.607411980628967\n",
            "Epoch 2, Loss: 4.260405778884888\n",
            "Epoch 3, Loss: 3.7358055114746094\n",
            "Epoch 4, Loss: 3.600419044494629\n",
            "Epoch 5, Loss: 3.884118974208832\n",
            "Epoch 6, Loss: 4.146984815597534\n",
            "Epoch 7, Loss: 4.188450932502747\n",
            "Epoch 8, Loss: 4.013549625873566\n",
            "Epoch 9, Loss: 3.7287949919700623\n",
            "Epoch 10, Loss: 3.4578835368156433\n"
          ]
        },
        {
          "output_type": "stream",
          "name": "stderr",
          "text": [
            "[I 2025-08-31 18:28:54,328] Trial 3 finished with value: 0.0 and parameters: {'lr': 4.416623872986089e-05, 'momentum': 0.9329900991279612, 'epsilon': 5.213040350195702e-06, 'alpha': 1.093545818463603, 'batch_size': 128}. Best is trial 1 with value: 20.0.\n"
          ]
        },
        {
          "output_type": "stream",
          "name": "stdout",
          "text": [
            "Epoch 1, Loss: 3.00186350941658\n",
            "Epoch 2, Loss: 2.3870635479688644\n",
            "Epoch 3, Loss: 2.3230597376823425\n",
            "Epoch 4, Loss: 2.29877470433712\n",
            "Epoch 5, Loss: 2.2872476875782013\n",
            "Epoch 6, Loss: 2.28193661570549\n",
            "Epoch 7, Loss: 2.267742305994034\n",
            "Epoch 8, Loss: 2.248718060553074\n",
            "Epoch 9, Loss: 2.2333271503448486\n",
            "Epoch 10, Loss: 2.218012437224388\n"
          ]
        },
        {
          "output_type": "stream",
          "name": "stderr",
          "text": [
            "[I 2025-08-31 18:29:04,069] Trial 4 finished with value: 20.0 and parameters: {'lr': 0.00040066484553310725, 'momentum': 0.8294093597628389, 'epsilon': 0.0003119261222019215, 'alpha': 0.5486521678315609, 'batch_size': 32}. Best is trial 1 with value: 20.0.\n"
          ]
        },
        {
          "output_type": "stream",
          "name": "stdout",
          "text": [
            "Epoch 1, Loss: 3.807639956474304\n",
            "Epoch 2, Loss: 4.020443558692932\n",
            "Epoch 3, Loss: 3.7732136249542236\n",
            "Epoch 4, Loss: 3.0627013444900513\n",
            "Epoch 5, Loss: 3.047760248184204\n",
            "Epoch 6, Loss: 3.2574867010116577\n",
            "Epoch 7, Loss: 3.137821614742279\n",
            "Epoch 8, Loss: 3.0006203055381775\n",
            "Epoch 9, Loss: 3.0467692017555237\n",
            "Epoch 10, Loss: 3.0823458433151245\n"
          ]
        },
        {
          "output_type": "stream",
          "name": "stderr",
          "text": [
            "[I 2025-08-31 18:29:14,552] Trial 5 finished with value: 0.0 and parameters: {'lr': 0.0004162580331822976, 'momentum': 0.8543087497191965, 'epsilon': 0.01739742335141455, 'alpha': 0.8230942509178336, 'batch_size': 128}. Best is trial 1 with value: 20.0.\n"
          ]
        },
        {
          "output_type": "stream",
          "name": "stdout",
          "text": [
            "Epoch 1, Loss: 3.326159656047821\n",
            "Epoch 2, Loss: 3.147253453731537\n",
            "Epoch 3, Loss: 3.224303901195526\n",
            "Epoch 4, Loss: 3.3369452357292175\n",
            "Epoch 5, Loss: 3.2722169756889343\n",
            "Epoch 6, Loss: 3.12934672832489\n",
            "Epoch 7, Loss: 3.0188552737236023\n",
            "Epoch 8, Loss: 2.9673449993133545\n",
            "Epoch 9, Loss: 2.949071168899536\n",
            "Epoch 10, Loss: 2.94714093208313\n"
          ]
        },
        {
          "output_type": "stream",
          "name": "stderr",
          "text": [
            "[I 2025-08-31 18:29:25,050] Trial 6 finished with value: 0.0 and parameters: {'lr': 0.00018384245645816657, 'momentum': 0.8028617274894645, 'epsilon': 0.002229725256489214, 'alpha': 0.5268748835067315, 'batch_size': 128}. Best is trial 1 with value: 20.0.\n"
          ]
        },
        {
          "output_type": "stream",
          "name": "stdout",
          "text": [
            "Epoch 1, Loss: 3.898896098136902\n",
            "Epoch 2, Loss: 4.2683804631233215\n",
            "Epoch 3, Loss: 4.386815369129181\n",
            "Epoch 4, Loss: 3.1633414030075073\n",
            "Epoch 5, Loss: 3.0433860421180725\n",
            "Epoch 6, Loss: 3.1794689893722534\n",
            "Epoch 7, Loss: 3.553292691707611\n",
            "Epoch 8, Loss: 3.205708146095276\n",
            "Epoch 9, Loss: 2.9438449144363403\n",
            "Epoch 10, Loss: 2.9411949515342712\n"
          ]
        },
        {
          "output_type": "stream",
          "name": "stderr",
          "text": [
            "[I 2025-08-31 18:29:36,093] Trial 7 finished with value: 0.0 and parameters: {'lr': 0.0004465068900558764, 'momentum': 0.9268280350384865, 'epsilon': 0.0006837128684285618, 'alpha': 0.9335761149911888, 'batch_size': 128}. Best is trial 1 with value: 20.0.\n"
          ]
        },
        {
          "output_type": "stream",
          "name": "stdout",
          "text": [
            "Epoch 1, Loss: 5.332699120044708\n",
            "Epoch 2, Loss: 3.7704044580459595\n",
            "Epoch 3, Loss: 3.4590224027633667\n",
            "Epoch 4, Loss: 3.4790230691432953\n",
            "Epoch 5, Loss: 3.3687985837459564\n",
            "Epoch 6, Loss: 3.263081133365631\n",
            "Epoch 7, Loss: 3.200358808040619\n",
            "Epoch 8, Loss: 3.154961735010147\n",
            "Epoch 9, Loss: 3.119070142507553\n",
            "Epoch 10, Loss: 3.088642805814743\n"
          ]
        },
        {
          "output_type": "stream",
          "name": "stderr",
          "text": [
            "[I 2025-08-31 18:29:45,941] Trial 8 finished with value: 20.0 and parameters: {'lr': 8.890998632748223e-05, 'momentum': 0.8458513499051187, 'epsilon': 2.1694025985244812e-05, 'alpha': 1.7209681556234195, 'batch_size': 64}. Best is trial 1 with value: 20.0.\n"
          ]
        },
        {
          "output_type": "stream",
          "name": "stdout",
          "text": [
            "Epoch 1, Loss: 5.754405736923218\n",
            "Epoch 2, Loss: 4.271834313869476\n",
            "Epoch 3, Loss: 4.036636233329773\n",
            "Epoch 4, Loss: 3.6162967681884766\n",
            "Epoch 5, Loss: 3.54763662815094\n",
            "Epoch 6, Loss: 3.5367009043693542\n",
            "Epoch 7, Loss: 3.3372742533683777\n",
            "Epoch 8, Loss: 3.4327924251556396\n",
            "Epoch 9, Loss: 3.260865330696106\n",
            "Epoch 10, Loss: 3.304039478302002\n"
          ]
        },
        {
          "output_type": "stream",
          "name": "stderr",
          "text": [
            "[I 2025-08-31 18:29:56,222] Trial 9 finished with value: 0.08 and parameters: {'lr': 0.005171207409647101, 'momentum': 0.8889495310636953, 'epsilon': 0.006529348242011882, 'alpha': 1.7088646862922214, 'batch_size': 128}. Best is trial 1 with value: 20.0.\n"
          ]
        },
        {
          "output_type": "stream",
          "name": "stdout",
          "text": [
            "Epoch 1, Loss: 7.853763282299042\n",
            "Epoch 2, Loss: 3.972155660390854\n",
            "Epoch 3, Loss: 3.110872194170952\n",
            "Epoch 4, Loss: 2.805177256464958\n",
            "Epoch 5, Loss: 2.5924108773469925\n",
            "Epoch 6, Loss: 2.352354198694229\n",
            "Epoch 7, Loss: 2.217076785862446\n",
            "Epoch 8, Loss: 2.173571392893791\n",
            "Epoch 9, Loss: 1.962717555463314\n",
            "Epoch 10, Loss: 3.860426038503647\n"
          ]
        },
        {
          "output_type": "stream",
          "name": "stderr",
          "text": [
            "[I 2025-08-31 18:30:04,922] Trial 10 finished with value: 20.0 and parameters: {'lr': 0.0246402886654739, 'momentum': 0.8958374864289279, 'epsilon': 0.09650911685182645, 'alpha': 1.8912564858985976, 'batch_size': 32}. Best is trial 1 with value: 20.0.\n"
          ]
        },
        {
          "output_type": "stream",
          "name": "stdout",
          "text": [
            "Epoch 1, Loss: 3.9482540488243103\n",
            "Epoch 2, Loss: 3.0094342827796936\n",
            "Epoch 3, Loss: 2.8520757853984833\n",
            "Epoch 4, Loss: 2.6139103174209595\n",
            "Epoch 5, Loss: 2.5381745994091034\n",
            "Epoch 6, Loss: 2.50898540019989\n",
            "Epoch 7, Loss: 2.4617459774017334\n",
            "Epoch 8, Loss: 2.450265645980835\n",
            "Epoch 9, Loss: 2.419703960418701\n",
            "Epoch 10, Loss: 2.4166449308395386\n"
          ]
        },
        {
          "output_type": "stream",
          "name": "stderr",
          "text": [
            "[I 2025-08-31 18:30:14,696] Trial 11 finished with value: 20.0 and parameters: {'lr': 0.002567164576382773, 'momentum': 0.9113922054984689, 'epsilon': 1.4198321405968095e-06, 'alpha': 1.3175959796939396, 'batch_size': 64}. Best is trial 1 with value: 20.0.\n"
          ]
        },
        {
          "output_type": "stream",
          "name": "stdout",
          "text": [
            "Epoch 1, Loss: 4.879046618938446\n",
            "Epoch 2, Loss: 3.55064994096756\n",
            "Epoch 3, Loss: 3.5694170594215393\n",
            "Epoch 4, Loss: 3.939855933189392\n",
            "Epoch 5, Loss: 3.851755529642105\n",
            "Epoch 6, Loss: 3.4230684638023376\n",
            "Epoch 7, Loss: 2.9982470870018005\n",
            "Epoch 8, Loss: 2.8180914223194122\n",
            "Epoch 9, Loss: 2.7864120602607727\n",
            "Epoch 10, Loss: 2.778268128633499\n"
          ]
        },
        {
          "output_type": "stream",
          "name": "stderr",
          "text": [
            "[I 2025-08-31 18:30:24,476] Trial 12 finished with value: 20.0 and parameters: {'lr': 2.161213419699698e-05, 'momentum': 0.9480694439023386, 'epsilon': 7.930545294888528e-05, 'alpha': 1.3906956322857018, 'batch_size': 64}. Best is trial 1 with value: 20.0.\n"
          ]
        },
        {
          "output_type": "stream",
          "name": "stdout",
          "text": [
            "Epoch 1, Loss: 3.7472409904003143\n",
            "Epoch 2, Loss: 3.148962765932083\n",
            "Epoch 3, Loss: 3.0659583061933517\n",
            "Epoch 4, Loss: 3.0390520840883255\n",
            "Epoch 5, Loss: 2.972021996974945\n",
            "Epoch 6, Loss: 2.9306248873472214\n",
            "Epoch 7, Loss: 2.9053820222616196\n",
            "Epoch 8, Loss: 2.890015095472336\n",
            "Epoch 9, Loss: 2.8545657247304916\n",
            "Epoch 10, Loss: 2.860019311308861\n"
          ]
        },
        {
          "output_type": "stream",
          "name": "stderr",
          "text": [
            "[I 2025-08-31 18:30:34,593] Trial 13 finished with value: 3.04 and parameters: {'lr': 0.001459317813704426, 'momentum': 0.8779826955054384, 'epsilon': 6.650508884816015e-05, 'alpha': 1.0942598742946545, 'batch_size': 32}. Best is trial 1 with value: 20.0.\n"
          ]
        },
        {
          "output_type": "stream",
          "name": "stdout",
          "text": [
            "Epoch 1, Loss: 4.888360768556595\n",
            "Epoch 2, Loss: 4.50588446855545\n",
            "Epoch 3, Loss: 3.7875175923109055\n",
            "Epoch 4, Loss: 3.6924269050359726\n",
            "Epoch 5, Loss: 3.6826961040496826\n",
            "Epoch 6, Loss: 3.574869394302368\n",
            "Epoch 7, Loss: 3.551614210009575\n",
            "Epoch 8, Loss: 3.513180673122406\n",
            "Epoch 9, Loss: 3.4855875223875046\n",
            "Epoch 10, Loss: 3.450437054038048\n"
          ]
        },
        {
          "output_type": "stream",
          "name": "stderr",
          "text": [
            "[I 2025-08-31 18:30:44,480] Trial 14 finished with value: 0.0 and parameters: {'lr': 8.573684096751277e-05, 'momentum': 0.9106236765738398, 'epsilon': 0.0685293022866607, 'alpha': 1.5692948983151334, 'batch_size': 32}. Best is trial 1 with value: 20.0.\n"
          ]
        },
        {
          "output_type": "stream",
          "name": "stdout",
          "text": [
            "Epoch 1, Loss: 9.736803501844406\n",
            "Epoch 2, Loss: 3.5638697743415833\n",
            "Epoch 3, Loss: 3.4251285195350647\n",
            "Epoch 4, Loss: 3.373876214027405\n",
            "Epoch 5, Loss: 3.4841056168079376\n",
            "Epoch 6, Loss: 3.1806295216083527\n",
            "Epoch 7, Loss: 2.9010822474956512\n",
            "Epoch 8, Loss: 2.3957148492336273\n",
            "Epoch 9, Loss: 2.258450463414192\n",
            "Epoch 10, Loss: 2.0154346376657486\n"
          ]
        },
        {
          "output_type": "stream",
          "name": "stderr",
          "text": [
            "[I 2025-08-31 18:30:52,576] Trial 15 finished with value: 41.66 and parameters: {'lr': 0.06130398547305881, 'momentum': 0.9072790575497991, 'epsilon': 1.4687915494557179e-06, 'alpha': 1.1393423626619632, 'batch_size': 64}. Best is trial 15 with value: 41.66.\n"
          ]
        },
        {
          "output_type": "stream",
          "name": "stdout",
          "text": [
            "Epoch 1, Loss: 5.7499410808086395\n",
            "Epoch 2, Loss: 3.1166559904813766\n",
            "Epoch 3, Loss: 2.323570765554905\n",
            "Epoch 4, Loss: 2.36486878991127\n",
            "Epoch 5, Loss: 2.0930741503834724\n",
            "Epoch 6, Loss: 2.0994897559285164\n",
            "Epoch 7, Loss: 1.9598323553800583\n",
            "Epoch 8, Loss: 1.860620528459549\n",
            "Epoch 9, Loss: 1.8452887535095215\n",
            "Epoch 10, Loss: 1.7629137188196182\n"
          ]
        },
        {
          "output_type": "stream",
          "name": "stderr",
          "text": [
            "[I 2025-08-31 18:31:01,537] Trial 16 finished with value: 31.4 and parameters: {'lr': 0.08491624216671616, 'momentum': 0.866144996086958, 'epsilon': 1.137758953977253e-05, 'alpha': 0.8063422844293937, 'batch_size': 32}. Best is trial 15 with value: 41.66.\n"
          ]
        },
        {
          "output_type": "stream",
          "name": "stdout",
          "text": [
            "Epoch 1, Loss: 11.666263192892075\n",
            "Epoch 2, Loss: 3.7992518544197083\n",
            "Epoch 3, Loss: 2.8694295585155487\n",
            "Epoch 4, Loss: 2.5060711205005646\n",
            "Epoch 5, Loss: 2.483799248933792\n",
            "Epoch 6, Loss: 2.3597642183303833\n",
            "Epoch 7, Loss: 2.155258536338806\n",
            "Epoch 8, Loss: 2.1777159571647644\n",
            "Epoch 9, Loss: 2.2901214361190796\n",
            "Epoch 10, Loss: 2.21638947725296\n"
          ]
        },
        {
          "output_type": "stream",
          "name": "stderr",
          "text": [
            "[I 2025-08-31 18:31:10,804] Trial 17 finished with value: 23.62 and parameters: {'lr': 0.09628910594990855, 'momentum': 0.869305625085343, 'epsilon': 8.554562729700572e-06, 'alpha': 0.7287813593621224, 'batch_size': 64}. Best is trial 15 with value: 41.66.\n"
          ]
        },
        {
          "output_type": "stream",
          "name": "stdout",
          "text": [
            "Epoch 1, Loss: 5.232665807008743\n",
            "Epoch 2, Loss: 4.4202395379543304\n",
            "Epoch 3, Loss: 2.444113254547119\n",
            "Epoch 4, Loss: 2.3062992691993713\n",
            "Epoch 5, Loss: 2.2133457958698273\n",
            "Epoch 6, Loss: 2.0388727635145187\n",
            "Epoch 7, Loss: 2.054876685142517\n",
            "Epoch 8, Loss: 2.025450214743614\n",
            "Epoch 9, Loss: 1.8230341076850891\n",
            "Epoch 10, Loss: 1.7187332808971405\n"
          ]
        },
        {
          "output_type": "stream",
          "name": "stderr",
          "text": [
            "[I 2025-08-31 18:31:19,890] Trial 18 finished with value: 48.18 and parameters: {'lr': 0.05816712388493016, 'momentum': 0.8703535595797326, 'epsilon': 4.708114853219166e-06, 'alpha': 0.8570422509072565, 'batch_size': 64}. Best is trial 18 with value: 48.18.\n"
          ]
        },
        {
          "output_type": "stream",
          "name": "stdout",
          "text": [
            "Epoch 1, Loss: 4.259310930967331\n",
            "Epoch 2, Loss: 2.8712572157382965\n",
            "Epoch 3, Loss: 2.493141621351242\n",
            "Epoch 4, Loss: 2.393002927303314\n",
            "Epoch 5, Loss: 2.393273115158081\n",
            "Epoch 6, Loss: 2.337938964366913\n",
            "Epoch 7, Loss: 2.296078324317932\n",
            "Epoch 8, Loss: 2.2520088851451874\n",
            "Epoch 9, Loss: 2.204897403717041\n",
            "Epoch 10, Loss: 2.209818795323372\n"
          ]
        },
        {
          "output_type": "stream",
          "name": "stderr",
          "text": [
            "[I 2025-08-31 18:31:28,854] Trial 19 finished with value: 20.08 and parameters: {'lr': 0.014513556261161645, 'momentum': 0.8275163761524664, 'epsilon': 1.188471239549e-06, 'alpha': 0.9973193119829654, 'batch_size': 64}. Best is trial 18 with value: 48.18.\n"
          ]
        },
        {
          "output_type": "stream",
          "name": "stdout",
          "text": [
            "Best trial: 48.18\n",
            "Best hyperparameters: {'lr': 0.05816712388493016, 'momentum': 0.8703535595797326, 'epsilon': 4.708114853219166e-06, 'alpha': 0.8570422509072565, 'batch_size': 64}\n"
          ]
        }
      ]
    },
    {
      "cell_type": "code",
      "source": [
        "from torch.utils.data import DataLoader\n",
        "\n",
        "# Define your VAT model (as in your original code)\n",
        "class VATModel(nn.Module):\n",
        "    def __init__(self):\n",
        "        super(VATModel, self).__init__()\n",
        "        self.conv1 = nn.Conv2d(3, 32, 3, padding=1)\n",
        "        self.pool = nn.MaxPool2d(2, 2)\n",
        "        self.fc1 = nn.Linear(32 * 16 * 16, 10)\n",
        "\n",
        "    def forward(self, x):\n",
        "        x = self.pool(torch.relu(self.conv1(x)))\n",
        "        x = x.view(-1, 32 * 16 * 16)\n",
        "        x = self.fc1(x)\n",
        "        return x\n",
        "\n",
        "# Define VAT loss function\n",
        "def virtual_adversarial_loss(model, x, epsilon=1e-6):\n",
        "    x.requires_grad_()\n",
        "    logits = model(x)\n",
        "\n",
        "    # Virtual adversarial perturbation\n",
        "    loss = F.cross_entropy(logits, torch.max(logits, 1)[1])\n",
        "    loss.backward()\n",
        "    grad = x.grad\n",
        "\n",
        "    # Perturbation\n",
        "    perturbation = epsilon * torch.sign(grad)\n",
        "\n",
        "    # Perturbed data\n",
        "    x_perturbed = x + perturbation\n",
        "    logits_perturbed = model(x_perturbed)\n",
        "    loss_perturbed = F.cross_entropy(logits_perturbed, torch.max(logits, 1)[1])\n",
        "\n",
        "    return loss_perturbed\n",
        "\n",
        "# Combined loss for VAT model\n",
        "def vat_loss(model, x, labels, criterion, epsilon=1e-6, alpha=1.0):\n",
        "    # Cross-entropy loss for labeled data\n",
        "    ce_loss = criterion(model(x), labels)\n",
        "\n",
        "    # Virtual adversarial loss (VAT)\n",
        "    va_loss = virtual_adversarial_loss(model, x, epsilon)\n",
        "\n",
        "    return ce_loss + alpha * va_loss\n",
        "\n",
        "# Training function for VAT model\n",
        "def run_vat_experiment(labeled_dataset, unlabeled_dataset, test_dataset, label, vat_best_params):\n",
        "# def train_vat_model(model, labeled_trainloader, unlabeled_trainloader, criterion, optimizer, num_epochs=10):\n",
        "    from sklearn.metrics import classification_report\n",
        "    class_names = [\n",
        "        'airplane', 'automobile', 'bird', 'cat', 'deer'\n",
        "        # 'dog', 'frog', 'horse', 'ship', 'truck'\n",
        "    ]\n",
        "    your_class_names = class_names\n",
        "    labeled_trainloader = DataLoader(labeled_dataset, batch_size=64, shuffle=True)\n",
        "    unlabeled_trainloader = DataLoader(unlabeled_dataset, batch_size=64, shuffle=True)\n",
        "    ssl_model = VATModel()\n",
        "    ssl_model.train()\n",
        "    # use best parameters from previous experiment since it is the same architecture\n",
        "    # vat_best_params = {'lr': 0.004683444236568706, 'momentum': 0.8915845187796497, 'epsilon': 7.633183703505233e-05, 'alpha': 1.6675574886555689, 'batch_size': 64}\n",
        "\n",
        "    optimizer_ssl = optim.SGD(ssl_model.parameters(), lr=vat_best_params['lr'], momentum=vat_best_params['momentum'])\n",
        "\n",
        "    # Define criterion for VAT model\n",
        "    criterion_ssl = nn.CrossEntropyLoss()\n",
        "    num_epochs=10\n",
        "    for epoch in range(num_epochs):\n",
        "        running_loss = 0.0\n",
        "        for (inputs, labels), (inputs_unlabeled, _) in zip(labeled_trainloader, unlabeled_trainloader):\n",
        "            optimizer_ssl.zero_grad()\n",
        "            # Train on labeled data with VAT applied to unlabeled data\n",
        "            loss = vat_loss(ssl_model, inputs, labels, criterion_ssl, alpha=vat_best_params['alpha'], epsilon=vat_best_params['epsilon'])\n",
        "            loss.backward()\n",
        "            optimizer_ssl.step()\n",
        "            running_loss += loss.item()\n",
        "        print(f\"Epoch {epoch+1}, Loss: {running_loss/len(labeled_trainloader)}\")\n",
        "\n",
        "    testloader = DataLoader(test_dataset, batch_size=64, shuffle=False)\n",
        "\n",
        "    # After evaluation\n",
        "    all_preds = []\n",
        "    all_labels = []\n",
        "\n",
        "    # Evaluation\n",
        "    ssl_model.eval()\n",
        "    correct, total = 0, 0\n",
        "    with torch.no_grad():\n",
        "        for inputs, labels in testloader:\n",
        "            outputs = ssl_model(inputs)\n",
        "            _, preds = torch.max(outputs, 1)\n",
        "            total += labels.size(0)\n",
        "            correct += (preds == labels).sum().item()\n",
        "            all_preds.extend(preds.cpu().numpy())\n",
        "            all_labels.extend(labels.cpu().numpy())\n",
        "\n",
        "    print(classification_report(all_labels, all_preds, digits=4, target_names=class_names))\n",
        "\n",
        "    acc = 100.0 * correct / total\n",
        "    print(f\"[{label}] Test Accuracy: {acc:.2f}%\")\n",
        "    return acc\n"
      ],
      "metadata": {
        "id": "YnrUZ_vBytKn"
      },
      "execution_count": null,
      "outputs": []
    },
    {
      "cell_type": "code",
      "source": [
        "# Run VAT with matched unlabeled data\n",
        "acc_matched = run_vat_experiment(\n",
        "    labeled_dataset,\n",
        "    unlabeled_dataset_matched,\n",
        "    test_dataset,\n",
        "    label=\"Matched Unlabeled Classes\",\n",
        "    vat_best_params=vat_best_params_matched\n",
        ")\n",
        "\n",
        "# Run VAT with mismatched unlabeled data\n",
        "acc_mismatched = run_vat_experiment(\n",
        "    labeled_dataset,\n",
        "    unlabeled_dataset_mismatched,\n",
        "    test_dataset,\n",
        "    label=\"Mismatched Unlabeled Classes\",\n",
        "    vat_best_params=vat_best_params_mismatched\n",
        ")\n"
      ],
      "metadata": {
        "colab": {
          "base_uri": "https://localhost:8080/"
        },
        "id": "OXaLmbBryySM",
        "outputId": "daf751c8-17eb-47be-af11-da6b317f14ed"
      },
      "execution_count": null,
      "outputs": [
        {
          "output_type": "stream",
          "name": "stdout",
          "text": [
            "Epoch 1, Loss: 3.8353759050369263\n",
            "Epoch 2, Loss: 3.10470050573349\n",
            "Epoch 3, Loss: 2.9270735383033752\n",
            "Epoch 4, Loss: 2.8006293177604675\n",
            "Epoch 5, Loss: 2.4501596689224243\n",
            "Epoch 6, Loss: 2.3104110956192017\n",
            "Epoch 7, Loss: 2.1186987906694412\n",
            "Epoch 8, Loss: 1.9780298471450806\n",
            "Epoch 9, Loss: 1.8892858922481537\n",
            "Epoch 10, Loss: 1.7705923467874527\n",
            "              precision    recall  f1-score   support\n",
            "\n",
            "    airplane     0.4650    0.7970    0.5873      1000\n",
            "  automobile     0.6729    0.5430    0.6010      1000\n",
            "        bird     0.0000    0.0000    0.0000      1000\n",
            "         cat     0.3148    0.7660    0.4463      1000\n",
            "        deer     0.6591    0.0290    0.0556      1000\n",
            "\n",
            "    accuracy                         0.4270      5000\n",
            "   macro avg     0.4224    0.4270    0.3380      5000\n",
            "weighted avg     0.4224    0.4270    0.3380      5000\n",
            "\n",
            "[Matched Unlabeled Classes] Test Accuracy: 42.70%\n",
            "Epoch 1, Loss: 10.088718920946121\n",
            "Epoch 2, Loss: 3.0476210713386536\n",
            "Epoch 3, Loss: 3.4382548928260803\n",
            "Epoch 4, Loss: 2.5481289327144623\n",
            "Epoch 5, Loss: 2.477592647075653\n",
            "Epoch 6, Loss: 2.3537091314792633\n",
            "Epoch 7, Loss: 2.3288669288158417\n",
            "Epoch 8, Loss: 2.119891658425331\n",
            "Epoch 9, Loss: 2.046145409345627\n",
            "Epoch 10, Loss: 1.8913106322288513\n",
            "              precision    recall  f1-score   support\n",
            "\n",
            "    airplane     0.0000    0.0000    0.0000      1000\n",
            "  automobile     0.6424    0.6180    0.6300      1000\n",
            "        bird     0.0000    0.0000    0.0000      1000\n",
            "         cat     0.2211    0.8920    0.3544      1000\n",
            "        deer     0.0000    0.0000    0.0000      1000\n",
            "\n",
            "    accuracy                         0.3020      5000\n",
            "   macro avg     0.1727    0.3020    0.1969      5000\n",
            "weighted avg     0.1727    0.3020    0.1969      5000\n",
            "\n",
            "[Mismatched Unlabeled Classes] Test Accuracy: 30.20%\n"
          ]
        },
        {
          "output_type": "stream",
          "name": "stderr",
          "text": [
            "/usr/local/lib/python3.12/dist-packages/sklearn/metrics/_classification.py:1565: UndefinedMetricWarning: Precision is ill-defined and being set to 0.0 in labels with no predicted samples. Use `zero_division` parameter to control this behavior.\n",
            "  _warn_prf(average, modifier, f\"{metric.capitalize()} is\", len(result))\n",
            "/usr/local/lib/python3.12/dist-packages/sklearn/metrics/_classification.py:1565: UndefinedMetricWarning: Precision is ill-defined and being set to 0.0 in labels with no predicted samples. Use `zero_division` parameter to control this behavior.\n",
            "  _warn_prf(average, modifier, f\"{metric.capitalize()} is\", len(result))\n",
            "/usr/local/lib/python3.12/dist-packages/sklearn/metrics/_classification.py:1565: UndefinedMetricWarning: Precision is ill-defined and being set to 0.0 in labels with no predicted samples. Use `zero_division` parameter to control this behavior.\n",
            "  _warn_prf(average, modifier, f\"{metric.capitalize()} is\", len(result))\n"
          ]
        }
      ]
    }
  ]
}