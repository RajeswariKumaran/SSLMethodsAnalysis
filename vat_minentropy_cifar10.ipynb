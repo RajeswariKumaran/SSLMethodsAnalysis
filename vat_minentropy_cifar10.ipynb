{
  "nbformat": 4,
  "nbformat_minor": 0,
  "metadata": {
    "colab": {
      "provenance": [],
      "gpuType": "T4",
      "authorship_tag": "ABX9TyMPIEikMHVLMpeCJnhO/ufS",
      "include_colab_link": true
    },
    "kernelspec": {
      "name": "python3",
      "display_name": "Python 3"
    },
    "language_info": {
      "name": "python"
    },
    "accelerator": "GPU"
  },
  "cells": [
    {
      "cell_type": "markdown",
      "metadata": {
        "id": "view-in-github",
        "colab_type": "text"
      },
      "source": [
        "<a href=\"https://colab.research.google.com/github/RajeswariKumaran/SSLMethodsAnalysis/blob/main/vat_minentropy_cifar10.ipynb\" target=\"_parent\"><img src=\"https://colab.research.google.com/assets/colab-badge.svg\" alt=\"Open In Colab\"/></a>"
      ]
    },
    {
      "cell_type": "code",
      "source": [
        "#entropy minimisation + rampup + vat"
      ],
      "metadata": {
        "id": "rBomDeFYAHAF"
      },
      "execution_count": null,
      "outputs": []
    },
    {
      "cell_type": "code",
      "source": [
        "import torch\n",
        "import torch.nn as nn\n",
        "import torch.nn.functional as F\n",
        "from torchvision import datasets, transforms\n",
        "from torch.utils.data import DataLoader\n",
        "import matplotlib.pyplot as plt\n",
        "import numpy as np\n"
      ],
      "metadata": {
        "id": "08YYjGXRsNFj"
      },
      "execution_count": null,
      "outputs": []
    },
    {
      "cell_type": "code",
      "source": [],
      "metadata": {
        "id": "h6RC6wm5sOWe"
      },
      "execution_count": null,
      "outputs": []
    },
    {
      "cell_type": "code",
      "source": [
        "import math\n",
        "\n",
        "def ramp_up(epoch, max_lambda_vat, rampup_length):\n",
        "    if rampup_length == 0:\n",
        "        return max_lambda_vat\n",
        "    else:\n",
        "        epoch = min(epoch, rampup_length)\n",
        "        phase = 1.0 - epoch / rampup_length\n",
        "        return max_lambda_vat * math.exp(-5.0 * phase * phase)\n"
      ],
      "metadata": {
        "id": "T2zRkeEdAK28"
      },
      "execution_count": null,
      "outputs": []
    },
    {
      "cell_type": "code",
      "source": [
        "class SimpleCNN(nn.Module):\n",
        "    def __init__(self, num_classes=10):\n",
        "        super().__init__()\n",
        "        self.features = nn.Sequential(\n",
        "            nn.Conv2d(3, 64, kernel_size=3, padding=1),\n",
        "            nn.ReLU(),\n",
        "            nn.MaxPool2d(2),  # 16x16\n",
        "            nn.Conv2d(64, 128, kernel_size=3, padding=1),\n",
        "            nn.ReLU(),\n",
        "            nn.AdaptiveAvgPool2d((1,1)),\n",
        "        )\n",
        "        self.classifier = nn.Linear(128, num_classes)\n",
        "\n",
        "    def forward(self, x):\n",
        "        x = self.features(x)\n",
        "        x = x.view(x.size(0), -1)\n",
        "        return self.classifier(x)\n",
        "\n",
        "model = SimpleCNN().cuda()\n",
        "model.eval()  # Important for VAT"
      ],
      "metadata": {
        "colab": {
          "base_uri": "https://localhost:8080/"
        },
        "id": "ylOU0YIar2Hs",
        "outputId": "9089e85e-fc36-4b83-bdb1-420735a71ceb"
      },
      "execution_count": null,
      "outputs": [
        {
          "output_type": "execute_result",
          "data": {
            "text/plain": [
              "SimpleCNN(\n",
              "  (features): Sequential(\n",
              "    (0): Conv2d(3, 64, kernel_size=(3, 3), stride=(1, 1), padding=(1, 1))\n",
              "    (1): ReLU()\n",
              "    (2): MaxPool2d(kernel_size=2, stride=2, padding=0, dilation=1, ceil_mode=False)\n",
              "    (3): Conv2d(64, 128, kernel_size=(3, 3), stride=(1, 1), padding=(1, 1))\n",
              "    (4): ReLU()\n",
              "    (5): AdaptiveAvgPool2d(output_size=(1, 1))\n",
              "  )\n",
              "  (classifier): Linear(in_features=128, out_features=10, bias=True)\n",
              ")"
            ]
          },
          "metadata": {},
          "execution_count": 21
        }
      ]
    },
    {
      "cell_type": "code",
      "source": [
        "class FocalLoss(nn.Module):\n",
        "    def __init__(self, alpha=None, gamma=2, reduction='mean'):\n",
        "        super(FocalLoss, self).__init__()\n",
        "        if alpha is not None:\n",
        "            self.register_buffer('alpha', alpha)  # important!\n",
        "        else:\n",
        "            self.alpha = None\n",
        "        self.gamma = gamma\n",
        "        self.reduction = reduction\n",
        "\n",
        "    def forward(self, inputs, targets):\n",
        "        probs = F.softmax(inputs, dim=1)\n",
        "        pt = probs.gather(1, targets.unsqueeze(1)).squeeze(1)\n",
        "        focal_factor = (1 - pt) ** self.gamma\n",
        "\n",
        "        if self.alpha is not None:\n",
        "            at = self.alpha.gather(0, targets)  # this is the line causing the error\n",
        "            loss = -at * focal_factor * torch.log(pt + 1e-8)\n",
        "        else:\n",
        "            loss = -focal_factor * torch.log(pt + 1e-8)\n",
        "\n",
        "        if self.reduction == 'mean':\n",
        "            return loss.mean()\n",
        "        elif self.reduction == 'sum':\n",
        "            return loss.sum()\n",
        "        else:\n",
        "            return loss"
      ],
      "metadata": {
        "id": "FpY8xjqPsZ16"
      },
      "execution_count": null,
      "outputs": []
    },
    {
      "cell_type": "code",
      "source": [
        "# Corrected KL divergence definition\n",
        "def kl_div(logits1, logits2):\n",
        "    p = F.softmax(logits1, dim=1)\n",
        "    log_p = F.log_softmax(logits1, dim=1)\n",
        "    log_q = F.log_softmax(logits2, dim=1)\n",
        "    return F.kl_div(log_q, p, reduction='batchmean')"
      ],
      "metadata": {
        "id": "k_l_dW24saBH"
      },
      "execution_count": null,
      "outputs": []
    },
    {
      "cell_type": "code",
      "source": [
        "# model = SimpleCNN()\n",
        "optimizer = torch.optim.Adam(model.parameters(), lr=1e-3)"
      ],
      "metadata": {
        "id": "Nwi2fFy6saOM"
      },
      "execution_count": null,
      "outputs": []
    },
    {
      "cell_type": "code",
      "source": [
        "device = torch.device('cuda' if torch.cuda.is_available() else 'cpu')\n",
        "lambda_vat = 1.0         # standard VAT weight\n",
        "\n",
        "# Initialize criterion and model\n",
        "alpha = torch.ones(10)\n",
        "# alpha[0] = 2.0  # airplane\n",
        "# alpha[2] = 2.0  # bird\n",
        "# alpha[3] = 2.0  # cat\n",
        "# alpha[5] = 2.0  # dog\n",
        "criterion_sup = FocalLoss(alpha=alpha, gamma=2)\n",
        "\n",
        "# Move model to GPU\n",
        "model = model.to(device)\n",
        "criterion_sup = criterion_sup.to(device)  # ✅ This is required!"
      ],
      "metadata": {
        "id": "4CMAceMltSvp"
      },
      "execution_count": null,
      "outputs": []
    },
    {
      "cell_type": "code",
      "source": [
        "# =====================================\n",
        "# Generate virtual adversarial noise\n",
        "# =====================================\n",
        "def generate_virtual_adversarial_perturbation(model, x, xi=1e-6, eps=3.0, ip=1):\n",
        "    with torch.no_grad():\n",
        "        pred = model(x)\n",
        "\n",
        "    d = torch.randn_like(x)\n",
        "\n",
        "\n",
        "    # Ensure epsilon is a tensor on the same device as x\n",
        "    epsilon_tensor = torch.tensor(eps).to(x.device)\n",
        "\n",
        "    for _ in range(ip):\n",
        "        d = xi * F.normalize(d, p=2, dim=(1, 2, 3))\n",
        "        d.requires_grad_()\n",
        "        pred_hat = model(x + d)\n",
        "        loss = kl_div(pred.detach(), pred_hat)\n",
        "        grad = torch.autograd.grad(loss, d)[0]\n",
        "        d = F.normalize(grad, p=2, dim=(1, 2, 3)).detach()\n",
        "\n",
        "    # Use the epsilon tensor for multiplication\n",
        "    r_adv = epsilon_tensor * d\n",
        "    return r_adv\n",
        "\n",
        "\n",
        "# ================================\n",
        "# VAT Loss function\n",
        "# ================================\n",
        "def virtual_adversarial_loss(model, x, xi=1e-6, eps=6.0, ip=1):\n",
        "    r_adv = generate_virtual_adversarial_perturbation(model, x, xi, eps, ip)\n",
        "    pred = model(x)\n",
        "    pred_hat = model(x + r_adv)\n",
        "    return kl_div(pred, pred_hat)"
      ],
      "metadata": {
        "id": "wtyDambQtNqs"
      },
      "execution_count": null,
      "outputs": []
    },
    {
      "cell_type": "code",
      "source": [
        "def train_one_epoch(model, labeled_loader, unlabeled_loader, optimizer,\n",
        "                    criterion_sup, epoch, total_epochs,\n",
        "                    max_lambda_vat, max_lambda_entropy,\n",
        "                    device):\n",
        "    model.train()\n",
        "\n",
        "    total_loss_epoch = 0\n",
        "    total_correct = 0\n",
        "    total_samples = 0\n",
        "\n",
        "    # Compute current ramp-up weights\n",
        "    lambda_vat = ramp_up(epoch, max_lambda_vat, rampup_length=int(0.3 * total_epochs))\n",
        "    lambda_entropy = ramp_up(epoch, max_lambda_entropy, rampup_length=int(0.3 * total_epochs))\n",
        "\n",
        "    for (x_l, y_l), (x_u, _) in zip(labeled_loader, unlabeled_loader):\n",
        "        x_l, y_l = x_l.to(device), y_l.to(device)\n",
        "        x_u = x_u.to(device)\n",
        "\n",
        "        optimizer.zero_grad()\n",
        "\n",
        "        # ----- Supervised loss -----\n",
        "        logits_l = model(x_l)\n",
        "        loss_sup = criterion_sup(logits_l, y_l)\n",
        "\n",
        "        # ----- VAT loss -----\n",
        "        r_adv = generate_virtual_adversarial_perturbation(model, x_u)\n",
        "        logits_u = model(x_u)\n",
        "        logits_u_perturbed = model(x_u + r_adv)\n",
        "\n",
        "        probs_u = F.softmax(logits_u.detach(), dim=1)\n",
        "        log_probs_perturbed = F.log_softmax(logits_u_perturbed, dim=1)\n",
        "        loss_vat = F.kl_div(log_probs_perturbed, probs_u, reduction='batchmean')\n",
        "\n",
        "        # ----- Entropy minimization loss -----\n",
        "        loss_entropy = entropy_minimization_loss(logits_u)\n",
        "\n",
        "        # ----- Total loss -----\n",
        "        total_loss = loss_sup + lambda_vat * loss_vat + lambda_entropy * loss_entropy\n",
        "        total_loss.backward()\n",
        "        optimizer.step()\n",
        "\n",
        "        # Track stats\n",
        "        preds = logits_l.argmax(dim=1)\n",
        "        total_correct += (preds == y_l).sum().item()\n",
        "        total_samples += y_l.size(0)\n",
        "        total_loss_epoch += total_loss.item() * y_l.size(0)\n",
        "\n",
        "    avg_loss = total_loss_epoch / total_samples\n",
        "    accuracy = total_correct / total_samples\n",
        "\n",
        "    print(f\"[Epoch {epoch}] Acc: {accuracy:.4f}, Sup: {loss_sup.item():.4f}, VAT: {loss_vat.item():.4f}, Ent: {loss_entropy.item():.4f}, λ_vat: {lambda_vat:.4f}, λ_ent: {lambda_entropy:.4f}\")\n",
        "    return avg_loss, accuracy\n"
      ],
      "metadata": {
        "id": "5ZEqDUohAOVy"
      },
      "execution_count": null,
      "outputs": []
    },
    {
      "cell_type": "code",
      "source": [
        "# new including entropy thresholding\n",
        "def train_one_epoch(model, labeled_loader, unlabeled_loader, optimizer,\n",
        "                    criterion_sup, epoch, total_epochs,\n",
        "                    max_lambda_vat, max_lambda_entropy,\n",
        "                    entropy_threshold, warmup_epochs,\n",
        "                    device):\n",
        "\n",
        "    model.train()\n",
        "    total_loss_epoch = 0\n",
        "    total_correct = 0\n",
        "    total_samples = 0\n",
        "\n",
        "    # Ramp-up schedules\n",
        "    rampup_length = int(0.7 * total_epochs)\n",
        "    rampup_length = 15\n",
        "    lambda_vat = ramp_up(epoch, max_lambda_vat, rampup_length)\n",
        "    lambda_entropy = ramp_up(epoch, max_lambda_entropy, rampup_length)\n",
        "\n",
        "    # Override during warmup\n",
        "    if epoch < warmup_epochs:\n",
        "        lambda_vat = 0.0\n",
        "        lambda_entropy = 0.0\n",
        "\n",
        "    for (x_l, y_l), (x_u, _) in zip(labeled_loader, unlabeled_loader):\n",
        "        x_l, y_l = x_l.to(device), y_l.to(device)\n",
        "        x_u = x_u.to(device)\n",
        "\n",
        "        optimizer.zero_grad()\n",
        "\n",
        "        # Supervised loss\n",
        "        logits_l = model(x_l)\n",
        "        loss_sup = criterion_sup(logits_l, y_l)\n",
        "\n",
        "        # Forward pass on unlabeled data\n",
        "        logits_u = model(x_u)\n",
        "        probs_u = F.softmax(logits_u, dim=1)\n",
        "        # print(\"probs_u[0]:\", probs_u[0])\n",
        "\n",
        "        # Entropy minimization\n",
        "        loss_entropy = entropy_minimization_loss(logits_u)\n",
        "\n",
        "        # Initialize VAT loss\n",
        "        loss_vat = torch.tensor(0.0, device=device)\n",
        "\n",
        "\n",
        "\n",
        "        entropies = entropy_per_sample(probs_u)\n",
        "        # print(f\"Entropy stats - min: {entropies.min().item():.4f}, max: {entropies.max().item():.4f}, mean: {entropies.mean().item():.4f}\")\n",
        "        # print(f\"Entropy threshold: {entropy_threshold}\")\n",
        "        mask = entropies < entropy_threshold\n",
        "        # print(f\"Number of confident samples: {mask.sum().item()}\")\n",
        "\n",
        "\n",
        "\n",
        "        # Apply VAT only if after warmup\n",
        "        if lambda_vat > 0:\n",
        "            entropies = -torch.sum(probs_u * torch.log(probs_u + 1e-8), dim=1)\n",
        "            mask = entropies < entropy_threshold\n",
        "\n",
        "            # if mask.any():\n",
        "\n",
        "            #     x_confident = x_u[mask]\n",
        "\n",
        "            #     with torch.no_grad():\n",
        "            #         logits_orig = model(x_confident)  # <-- this is what you need\n",
        "            #         logits_orig_detached = logits_orig.detach()\n",
        "\n",
        "            #     # Generate adversarial perturbation\n",
        "            #     r_adv = generate_virtual_adversarial_perturbation(model, x_confident)\n",
        "            #     logits_perturbed = model(x_confident + r_adv)\n",
        "\n",
        "            #     # Consistency-style VAT loss (MSE on logits)\n",
        "            #     loss_vat = F.mse_loss(logits_perturbed, logits_orig_detached)\n",
        "            # else:\n",
        "            #     mask = torch.tensor([], dtype=torch.bool, device=device)  # To avoid crash in logging\n",
        "            if mask.any():\n",
        "                x_confident = x_u[mask]\n",
        "                with torch.no_grad():\n",
        "                    probs_confident = probs_u[mask]\n",
        "\n",
        "                # Generate VAT perturbation\n",
        "\n",
        "                r_adv = generate_virtual_adversarial_perturbation(model, x_confident)\n",
        "                logits_perturbed = model(x_confident + r_adv)\n",
        "                probs_perturbed = F.softmax(logits_perturbed, dim=1)\n",
        "\n",
        "                loss_vat = F.kl_div(probs_perturbed.log(), probs_confident, reduction='batchmean')\n",
        "\n",
        "\n",
        "\n",
        "                # Optional debug\n",
        "                kl_per_sample = F.kl_div(probs_perturbed.log(), probs_confident, reduction='none').sum(dim=1)\n",
        "            else:\n",
        "                mask = torch.tensor([], dtype=torch.bool, device=device)  # To avoid crash in logging\n",
        "        else:\n",
        "            entropies = torch.tensor([0.0], device=device)\n",
        "            mask = torch.tensor([], dtype=torch.bool, device=device)\n",
        "\n",
        "        # Total loss\n",
        "        total_loss = loss_sup + lambda_vat * loss_vat + lambda_entropy * loss_entropy\n",
        "        total_loss.backward()\n",
        "        optimizer.step()\n",
        "\n",
        "        # Stats\n",
        "        preds = logits_l.argmax(dim=1)\n",
        "        total_correct += (preds == y_l).sum().item()\n",
        "        total_samples += y_l.size(0)\n",
        "        total_loss_epoch += total_loss.item() * y_l.size(0)\n",
        "\n",
        "    # Logging\n",
        "    avg_loss = total_loss_epoch / total_samples\n",
        "    accuracy = total_correct / total_samples\n",
        "\n",
        "    #print(f\"[Epoch {epoch}] Entropy stats — min: {entropies.min():.4f}, max: {entropies.max():.4f}, mean: {entropies.mean():.4f}, median: {entropies.median():.4f}, conf: {mask.sum().item()}\")\n",
        "\n",
        "    # print(f\"[Epoch {epoch}] Entropy stats — min: {entropies.min().item():.4f}, max: {entropies.max().item():.4f}, mean: {entropies.mean().item():.4f}, median: {entropies.median().item():.4f}, conf: {mask.sum().item()}\")\n",
        "    print(f\"[Epoch {epoch}] Acc: {accuracy:.4f}, Sup: {loss_sup.item():.4f}, VAT: {loss_vat.item():.4f}, Ent: {loss_entropy.item():.4f}, λ_vat: {lambda_vat:.4f}, λ_ent: {lambda_entropy:.4f}, Conf: {mask.sum().item()}\")\n",
        "\n",
        "    return avg_loss, accuracy\n",
        "\n"
      ],
      "metadata": {
        "id": "WQeb2nezc4r7"
      },
      "execution_count": null,
      "outputs": []
    },
    {
      "cell_type": "code",
      "source": [
        "max_lambda_vat = 0.2\n",
        "max_lambda_entropy = 0.06\n",
        "total_epochs = 30\n"
      ],
      "metadata": {
        "id": "6eiH5U_HARum"
      },
      "execution_count": null,
      "outputs": []
    },
    {
      "cell_type": "code",
      "source": [
        "import torch\n",
        "import torch.nn.functional as F\n",
        "\n",
        "def entropy_minimization_loss(logits):\n",
        "    \"\"\"\n",
        "    Computes mean entropy over the batch.\n",
        "\n",
        "    Args:\n",
        "        logits (Tensor): shape (batch_size, num_classes), raw model outputs\n",
        "\n",
        "    Returns:\n",
        "        Tensor: scalar tensor representing the mean entropy loss\n",
        "    \"\"\"\n",
        "    probs = F.softmax(logits, dim=1)                    # Convert logits to probabilities\n",
        "    log_probs = F.log_softmax(logits, dim=1)            # Log probabilities for numerical stability\n",
        "    entropy = -torch.sum(probs * log_probs, dim=1)      # Entropy per sample\n",
        "    return entropy.mean()                               # Mean entropy over the batch\n"
      ],
      "metadata": {
        "id": "eHcdeaVhBKHt"
      },
      "execution_count": null,
      "outputs": []
    },
    {
      "cell_type": "code",
      "source": [
        "import torch\n",
        "import torch.nn as nn\n",
        "import torch.nn.functional as F\n",
        "import torchvision\n",
        "import torchvision.transforms as transforms\n",
        "from torch.utils.data import DataLoader, Subset\n",
        "import numpy as np\n",
        "\n",
        "# === 1. DATASET SETUP (CIFAR-10) ===\n",
        "\n",
        "def get_cifar10_dataloaders(num_labeled=10000, batch_size=64):\n",
        "    # transform = transforms.Compose([\n",
        "    #     transforms.ToTensor(),\n",
        "    #     transforms.Normalize((0.5,), (0.5,))\n",
        "    # ])\n",
        "    mean = (0.4914, 0.4822, 0.4465)\n",
        "    std = (0.2023, 0.1994, 0.2010)\n",
        "\n",
        "    transform = transforms.Compose([\n",
        "        transforms.RandomCrop(32, padding=4),\n",
        "        transforms.RandomHorizontalFlip(),\n",
        "        transforms.ToTensor(),\n",
        "        transforms.Normalize(mean, std)\n",
        "])\n",
        "\n",
        "    full_trainset = torchvision.datasets.CIFAR10(root='./data', train=True, download=True, transform=transform)\n",
        "\n",
        "    # Randomly split labeled/unlabeled\n",
        "    indices = np.arange(len(full_trainset))\n",
        "    np.random.shuffle(indices)\n",
        "    labeled_indices = indices[:num_labeled]\n",
        "    unlabeled_indices = indices[num_labeled:]\n",
        "\n",
        "    labeled_set = Subset(full_trainset, labeled_indices)\n",
        "    unlabeled_set = Subset(full_trainset, unlabeled_indices)\n",
        "\n",
        "    labeled_loader = DataLoader(labeled_set, batch_size=batch_size, shuffle=True)\n",
        "    unlabeled_loader = DataLoader(unlabeled_set, batch_size=batch_size, shuffle=True)\n",
        "\n",
        "    testset = torchvision.datasets.CIFAR10(root='./data', train=False, download=True, transform=transform)\n",
        "    test_loader = DataLoader(testset, batch_size=batch_size, shuffle=False)\n",
        "\n",
        "    return labeled_loader, unlabeled_loader, test_loader"
      ],
      "metadata": {
        "id": "6JDDV13Qsx8f"
      },
      "execution_count": null,
      "outputs": []
    },
    {
      "cell_type": "code",
      "source": [
        "print(torch.cuda.is_available())\n",
        "!nvidia-smi\n"
      ],
      "metadata": {
        "colab": {
          "base_uri": "https://localhost:8080/"
        },
        "id": "HNLUVbQyAjfo",
        "outputId": "32eeb862-055b-403c-8d9a-7e7e13a8c128"
      },
      "execution_count": null,
      "outputs": [
        {
          "output_type": "stream",
          "name": "stdout",
          "text": [
            "True\n",
            "Thu Oct  2 13:09:49 2025       \n",
            "+-----------------------------------------------------------------------------------------+\n",
            "| NVIDIA-SMI 550.54.15              Driver Version: 550.54.15      CUDA Version: 12.4     |\n",
            "|-----------------------------------------+------------------------+----------------------+\n",
            "| GPU  Name                 Persistence-M | Bus-Id          Disp.A | Volatile Uncorr. ECC |\n",
            "| Fan  Temp   Perf          Pwr:Usage/Cap |           Memory-Usage | GPU-Util  Compute M. |\n",
            "|                                         |                        |               MIG M. |\n",
            "|=========================================+========================+======================|\n",
            "|   0  Tesla T4                       Off |   00000000:00:04.0 Off |                    0 |\n",
            "| N/A   77C    P0             32W /   70W |     104MiB /  15360MiB |      0%      Default |\n",
            "|                                         |                        |                  N/A |\n",
            "+-----------------------------------------+------------------------+----------------------+\n",
            "                                                                                         \n",
            "+-----------------------------------------------------------------------------------------+\n",
            "| Processes:                                                                              |\n",
            "|  GPU   GI   CI        PID   Type   Process name                              GPU Memory |\n",
            "|        ID   ID                                                               Usage      |\n",
            "|=========================================================================================|\n",
            "+-----------------------------------------------------------------------------------------+\n"
          ]
        }
      ]
    },
    {
      "cell_type": "code",
      "source": [
        "import torch\n",
        "print(\"CUDA available:\", torch.cuda.is_available())\n",
        "print(\"GPU name:\", torch.cuda.get_device_name(0) if torch.cuda.is_available() else \"No GPU\")\n"
      ],
      "metadata": {
        "colab": {
          "base_uri": "https://localhost:8080/"
        },
        "id": "0qUcSUmWAG1L",
        "outputId": "65b85f9f-5c5a-4bc4-8209-3b7631cf4bb4"
      },
      "execution_count": null,
      "outputs": [
        {
          "output_type": "stream",
          "name": "stdout",
          "text": [
            "CUDA available: True\n",
            "GPU name: Tesla T4\n"
          ]
        }
      ]
    },
    {
      "cell_type": "code",
      "source": [
        "import torch\n",
        "\n",
        "def entropy_per_sample(probs: torch.Tensor) -> torch.Tensor:\n",
        "    \"\"\"\n",
        "    Computes entropy per sample for a batch of probabilities.\n",
        "\n",
        "    Args:\n",
        "        probs: Tensor of shape (batch_size, num_classes), values should sum to 1 along dim=1.\n",
        "\n",
        "    Returns:\n",
        "        Tensor of shape (batch_size,) with entropy per sample.\n",
        "    \"\"\"\n",
        "    return -torch.sum(probs * torch.log(probs.clamp(min=1e-8)), dim=1)\n"
      ],
      "metadata": {
        "id": "dqUiZuW8IQXe"
      },
      "execution_count": null,
      "outputs": []
    },
    {
      "cell_type": "code",
      "source": [
        "labeled_loader, unlabeled_loader, test_loader = get_cifar10_dataloaders(num_labeled=4000, batch_size=64)"
      ],
      "metadata": {
        "colab": {
          "base_uri": "https://localhost:8080/"
        },
        "id": "r74sZsfhszXs",
        "outputId": "66d4bd75-8d92-440e-d08b-8bfc8a16cb51"
      },
      "execution_count": null,
      "outputs": [
        {
          "output_type": "stream",
          "name": "stderr",
          "text": [
            "100%|██████████| 170M/170M [03:42<00:00, 767kB/s]\n"
          ]
        }
      ]
    },
    {
      "cell_type": "code",
      "source": [
        "\n",
        "num_epochs = 30\n",
        "entropy_threshold = 2.0     # allow more samples into VAT\n",
        "max_lambda_vat = 0.5\n",
        "max_lambda_entropy = 0.06\n",
        "max_lambda_entropy = 0.1\n",
        "warmup_epochs = 5            # skip VAT early on\n",
        "\n",
        "model.to(device)  # Move model to the device\n",
        "ramp_length = 30\n",
        "for epoch in range(num_epochs):\n",
        "    if epoch < 10:\n",
        "      entropy_threshold = 2.0\n",
        "    elif epoch < 20:\n",
        "      entropy_threshold = 1.5\n",
        "    else:\n",
        "      entropy_threshold = 1.0\n",
        "\n",
        "    entropy_threshold = max(0.5, 2.0 - epoch / total_epochs * 1.5)\n",
        "    avg_loss, accuracy = train_one_epoch(\n",
        "        model,\n",
        "        labeled_loader,\n",
        "        unlabeled_loader,\n",
        "        optimizer,\n",
        "        criterion_sup,\n",
        "        epoch,\n",
        "        total_epochs=num_epochs,\n",
        "        max_lambda_vat=max_lambda_vat,\n",
        "        max_lambda_entropy=max_lambda_entropy,\n",
        "        entropy_threshold=entropy_threshold,\n",
        "        warmup_epochs=warmup_epochs,\n",
        "        # entropy_threshold=exp_entropy_threshold(epoch, ramp_length), #0.9,  # lower = stricter confidence\n",
        "        device=device\n",
        "    )\n",
        "\n",
        "\n",
        "    # model, labeled_loader, unlabeled_loader, optimizer,\n",
        "    #                 criterion_sup, epoch, total_epochs,\n",
        "    #                 max_lambda_vat, max_lambda_entropy,\n",
        "    #                 device):\n",
        "\n",
        "\n",
        "    if (accuracy > 0.93):\n",
        "      break\n"
      ],
      "metadata": {
        "colab": {
          "base_uri": "https://localhost:8080/"
        },
        "id": "fceA44TNAW1C",
        "outputId": "712d45ea-5890-4978-d9a6-25f97ffc1ba9"
      },
      "execution_count": null,
      "outputs": [
        {
          "output_type": "stream",
          "name": "stdout",
          "text": [
            "[Epoch 0] Acc: 0.6530, Sup: 0.4562, VAT: 0.0000, Ent: 1.3361, λ_vat: 0.0000, λ_ent: 0.0000, Conf: 0\n",
            "[Epoch 1] Acc: 0.6710, Sup: 0.4589, VAT: 0.0000, Ent: 1.4079, λ_vat: 0.0000, λ_ent: 0.0000, Conf: 0\n",
            "[Epoch 2] Acc: 0.6797, Sup: 0.4980, VAT: 0.0000, Ent: 1.2536, λ_vat: 0.0000, λ_ent: 0.0000, Conf: 0\n",
            "[Epoch 3] Acc: 0.6693, Sup: 0.3147, VAT: 0.0000, Ent: 1.3482, λ_vat: 0.0000, λ_ent: 0.0000, Conf: 0\n",
            "[Epoch 4] Acc: 0.6717, Sup: 0.4393, VAT: 0.0000, Ent: 1.2465, λ_vat: 0.0000, λ_ent: 0.0000, Conf: 0\n",
            "[Epoch 5] Acc: 0.6805, Sup: 0.3701, VAT: 0.1406, Ent: 1.3310, λ_vat: 0.0542, λ_ent: 0.0108, Conf: 54\n",
            "[Epoch 6] Acc: 0.6755, Sup: 0.5397, VAT: 0.1354, Ent: 1.2200, λ_vat: 0.0826, λ_ent: 0.0165, Conf: 52\n",
            "[Epoch 7] Acc: 0.6785, Sup: 0.5846, VAT: 0.1672, Ent: 1.2315, λ_vat: 0.1206, λ_ent: 0.0241, Conf: 52\n",
            "[Epoch 8] Acc: 0.6780, Sup: 0.5427, VAT: 0.1523, Ent: 1.1287, λ_vat: 0.1683, λ_ent: 0.0337, Conf: 54\n",
            "[Epoch 9] Acc: 0.6813, Sup: 0.5041, VAT: 0.1549, Ent: 1.3083, λ_vat: 0.2247, λ_ent: 0.0449, Conf: 45\n",
            "[Epoch 10] Acc: 0.6890, Sup: 0.4484, VAT: 0.1379, Ent: 1.3067, λ_vat: 0.2869, λ_ent: 0.0574, Conf: 40\n",
            "[Epoch 11] Acc: 0.6823, Sup: 0.4813, VAT: 0.1418, Ent: 1.3144, λ_vat: 0.3504, λ_ent: 0.0701, Conf: 31\n",
            "[Epoch 12] Acc: 0.6767, Sup: 0.3234, VAT: 0.1469, Ent: 1.2871, λ_vat: 0.4094, λ_ent: 0.0819, Conf: 32\n",
            "[Epoch 13] Acc: 0.6695, Sup: 0.4574, VAT: 0.1323, Ent: 1.2442, λ_vat: 0.4575, λ_ent: 0.0915, Conf: 34\n",
            "[Epoch 14] Acc: 0.6650, Sup: 0.6329, VAT: 0.1359, Ent: 1.2507, λ_vat: 0.4890, λ_ent: 0.0978, Conf: 30\n",
            "[Epoch 15] Acc: 0.6795, Sup: 0.4661, VAT: 0.1423, Ent: 1.3125, λ_vat: 0.5000, λ_ent: 0.1000, Conf: 28\n",
            "[Epoch 16] Acc: 0.6720, Sup: 0.3498, VAT: 0.1213, Ent: 1.3149, λ_vat: 0.5000, λ_ent: 0.1000, Conf: 21\n",
            "[Epoch 17] Acc: 0.6750, Sup: 0.5143, VAT: 0.1082, Ent: 1.2614, λ_vat: 0.5000, λ_ent: 0.1000, Conf: 25\n",
            "[Epoch 18] Acc: 0.6853, Sup: 0.5009, VAT: 0.1070, Ent: 1.2921, λ_vat: 0.5000, λ_ent: 0.1000, Conf: 19\n",
            "[Epoch 19] Acc: 0.6850, Sup: 0.3385, VAT: 0.1091, Ent: 1.2214, λ_vat: 0.5000, λ_ent: 0.1000, Conf: 19\n",
            "[Epoch 20] Acc: 0.6777, Sup: 0.4004, VAT: 0.0929, Ent: 1.1915, λ_vat: 0.5000, λ_ent: 0.1000, Conf: 20\n",
            "[Epoch 21] Acc: 0.6823, Sup: 0.6406, VAT: 0.0994, Ent: 1.2627, λ_vat: 0.5000, λ_ent: 0.1000, Conf: 16\n",
            "[Epoch 22] Acc: 0.6823, Sup: 0.4023, VAT: 0.0702, Ent: 1.2268, λ_vat: 0.5000, λ_ent: 0.1000, Conf: 17\n",
            "[Epoch 23] Acc: 0.6853, Sup: 0.4495, VAT: 0.0738, Ent: 1.1645, λ_vat: 0.5000, λ_ent: 0.1000, Conf: 18\n",
            "[Epoch 24] Acc: 0.6733, Sup: 0.3915, VAT: 0.0507, Ent: 1.2323, λ_vat: 0.5000, λ_ent: 0.1000, Conf: 6\n",
            "[Epoch 25] Acc: 0.6743, Sup: 0.3944, VAT: 0.0789, Ent: 1.1940, λ_vat: 0.5000, λ_ent: 0.1000, Conf: 12\n",
            "[Epoch 26] Acc: 0.6803, Sup: 0.3333, VAT: 0.0611, Ent: 1.1701, λ_vat: 0.5000, λ_ent: 0.1000, Conf: 13\n",
            "[Epoch 27] Acc: 0.6807, Sup: 0.5514, VAT: 0.1449, Ent: 1.1898, λ_vat: 0.5000, λ_ent: 0.1000, Conf: 7\n",
            "[Epoch 28] Acc: 0.6823, Sup: 0.6181, VAT: 0.0258, Ent: 1.2834, λ_vat: 0.5000, λ_ent: 0.1000, Conf: 8\n",
            "[Epoch 29] Acc: 0.6887, Sup: 0.3396, VAT: 0.0501, Ent: 1.1492, λ_vat: 0.5000, λ_ent: 0.1000, Conf: 6\n"
          ]
        }
      ]
    },
    {
      "cell_type": "code",
      "source": [
        "# Evaluation Function with Metrics & Confusion Matrix\n",
        "from sklearn.metrics import classification_report, confusion_matrix\n",
        "import seaborn as sns\n",
        "import matplotlib.pyplot as plt\n",
        "def evaluation_output(model, test_loader, device):\n",
        "    model.eval()\n",
        "    all_preds, all_labels = [], []\n",
        "\n",
        "    with torch.no_grad():\n",
        "        for x, y in test_loader:\n",
        "            x, y = x.to(device), y.to(device)\n",
        "            outputs = model(x)\n",
        "            preds = outputs.argmax(dim=1)\n",
        "            all_preds.append(preds.cpu())\n",
        "            all_labels.append(y.cpu())\n",
        "\n",
        "    y_pred = torch.cat(all_preds).numpy()\n",
        "    y_true = torch.cat(all_labels).numpy()\n",
        "\n",
        "    acc = 100 * np.mean(y_pred == y_true)\n",
        "    print(f\"\\n✅ Test Accuracy: {acc:.2f}%\")\n",
        "    print(\"\\n📊 Classification Report:\")\n",
        "    print(classification_report(y_true, y_pred, target_names=[\n",
        "        'airplane', 'automobile', 'bird', 'cat', 'deer',\n",
        "        'dog', 'frog', 'horse', 'ship', 'truck'\n",
        "    ]))\n",
        "\n",
        "    cm = confusion_matrix(y_true, y_pred)\n",
        "    plt.figure(figsize=(10, 8))\n",
        "    sns.heatmap(cm, annot=True, fmt='d', cmap='Blues',\n",
        "                xticklabels=[\n",
        "                    'airplane', 'automobile', 'bird', 'cat', 'deer',\n",
        "                    'dog', 'frog', 'horse', 'ship', 'truck'\n",
        "                ],\n",
        "                yticklabels=[\n",
        "                    'airplane', 'automobile', 'bird', 'cat', 'deer',\n",
        "                    'dog', 'frog', 'horse', 'ship', 'truck'\n",
        "                ])\n",
        "    plt.title(\"Confusion Matrix\")\n",
        "    plt.xlabel(\"Predicted\")\n",
        "    plt.ylabel(\"True\")\n",
        "    plt.tight_layout()\n",
        "    plt.show()"
      ],
      "metadata": {
        "id": "I3CXa70srk8f"
      },
      "execution_count": null,
      "outputs": []
    },
    {
      "cell_type": "code",
      "source": [
        "evaluation_output(model, test_loader, device)"
      ],
      "metadata": {
        "colab": {
          "base_uri": "https://localhost:8080/",
          "height": 1000
        },
        "id": "_8QgN9VWrmMz",
        "outputId": "997bf84d-2ab2-4fc6-ac8b-4aaca78db662"
      },
      "execution_count": null,
      "outputs": [
        {
          "output_type": "stream",
          "name": "stdout",
          "text": [
            "\n",
            "✅ Test Accuracy: 59.89%\n",
            "\n",
            "📊 Classification Report:\n",
            "              precision    recall  f1-score   support\n",
            "\n",
            "    airplane       0.58      0.66      0.62      1000\n",
            "  automobile       0.71      0.72      0.71      1000\n",
            "        bird       0.45      0.51      0.48      1000\n",
            "         cat       0.45      0.41      0.43      1000\n",
            "        deer       0.59      0.44      0.50      1000\n",
            "         dog       0.51      0.58      0.54      1000\n",
            "        frog       0.69      0.67      0.68      1000\n",
            "       horse       0.64      0.65      0.65      1000\n",
            "        ship       0.71      0.66      0.69      1000\n",
            "       truck       0.69      0.69      0.69      1000\n",
            "\n",
            "    accuracy                           0.60     10000\n",
            "   macro avg       0.60      0.60      0.60     10000\n",
            "weighted avg       0.60      0.60      0.60     10000\n",
            "\n"
          ]
        },
        {
          "output_type": "display_data",
          "data": {
            "text/plain": [
              "<Figure size 1000x800 with 2 Axes>"
            ],
            "image/png": "[encoded data removed]"
          },
          "metadata": {}
        }
      ]
    },
    {
      "cell_type": "code",
      "source": [],
      "metadata": {
        "id": "1aDT2Y0qWADi"
      },
      "execution_count": null,
      "outputs": []
    }
  ]
}